{
  "nbformat": 4,
  "nbformat_minor": 0,
  "metadata": {
    "colab": {
      "name": "thunder-speech.ipynb",
      "provenance": [],
      "collapsed_sections": [
        "KkRrK-BypwJA"
      ],
      "authorship_tag": "ABX9TyOxF5t6ADZR99gSSFTiCRN+",
      "include_colab_link": true
    },
    "kernelspec": {
      "name": "python3",
      "display_name": "Python 3"
    },
    "language_info": {
      "name": "python"
    },
    "accelerator": "GPU",
    "widgets": {
      "application/vnd.jupyter.widget-state+json": {
        "5fe08be843ef4dcb81ad3933d9f79107": {
          "model_module": "@jupyter-widgets/controls",
          "model_name": "VBoxModel",
          "model_module_version": "1.5.0",
          "state": {
            "_dom_classes": [],
            "_model_module": "@jupyter-widgets/controls",
            "_model_module_version": "1.5.0",
            "_model_name": "VBoxModel",
            "_view_count": null,
            "_view_module": "@jupyter-widgets/controls",
            "_view_module_version": "1.5.0",
            "_view_name": "VBoxView",
            "box_style": "",
            "children": [
              "IPY_MODEL_de68f89faf174c9a8cbb2ad83886582d",
              "IPY_MODEL_f3628b8c8dbf498fa9df5191618eabfd"
            ],
            "layout": "IPY_MODEL_0fc05707b97347948f431a7b21a4f66d"
          }
        },
        "de68f89faf174c9a8cbb2ad83886582d": {
          "model_module": "@jupyter-widgets/controls",
          "model_name": "LabelModel",
          "model_module_version": "1.5.0",
          "state": {
            "_dom_classes": [],
            "_model_module": "@jupyter-widgets/controls",
            "_model_module_version": "1.5.0",
            "_model_name": "LabelModel",
            "_view_count": null,
            "_view_module": "@jupyter-widgets/controls",
            "_view_module_version": "1.5.0",
            "_view_name": "LabelView",
            "description": "",
            "description_tooltip": null,
            "layout": "IPY_MODEL_a9ba367396954f308e2639b80179d66d",
            "placeholder": "​",
            "style": "IPY_MODEL_f13b8e2a8eee41ecb51ed19f124b5c52",
            "value": "73.603 MB of 73.603 MB uploaded (0.000 MB deduped)\r"
          }
        },
        "f3628b8c8dbf498fa9df5191618eabfd": {
          "model_module": "@jupyter-widgets/controls",
          "model_name": "FloatProgressModel",
          "model_module_version": "1.5.0",
          "state": {
            "_dom_classes": [],
            "_model_module": "@jupyter-widgets/controls",
            "_model_module_version": "1.5.0",
            "_model_name": "FloatProgressModel",
            "_view_count": null,
            "_view_module": "@jupyter-widgets/controls",
            "_view_module_version": "1.5.0",
            "_view_name": "ProgressView",
            "bar_style": "",
            "description": "",
            "description_tooltip": null,
            "layout": "IPY_MODEL_bd41607df2b04a0fa139ca8ea233c172",
            "max": 1,
            "min": 0,
            "orientation": "horizontal",
            "style": "IPY_MODEL_9695ae34ee764678af9d3ffdc5c39f96",
            "value": 1
          }
        },
        "0fc05707b97347948f431a7b21a4f66d": {
          "model_module": "@jupyter-widgets/base",
          "model_name": "LayoutModel",
          "model_module_version": "1.2.0",
          "state": {
            "_model_module": "@jupyter-widgets/base",
            "_model_module_version": "1.2.0",
            "_model_name": "LayoutModel",
            "_view_count": null,
            "_view_module": "@jupyter-widgets/base",
            "_view_module_version": "1.2.0",
            "_view_name": "LayoutView",
            "align_content": null,
            "align_items": null,
            "align_self": null,
            "border": null,
            "bottom": null,
            "display": null,
            "flex": null,
            "flex_flow": null,
            "grid_area": null,
            "grid_auto_columns": null,
            "grid_auto_flow": null,
            "grid_auto_rows": null,
            "grid_column": null,
            "grid_gap": null,
            "grid_row": null,
            "grid_template_areas": null,
            "grid_template_columns": null,
            "grid_template_rows": null,
            "height": null,
            "justify_content": null,
            "justify_items": null,
            "left": null,
            "margin": null,
            "max_height": null,
            "max_width": null,
            "min_height": null,
            "min_width": null,
            "object_fit": null,
            "object_position": null,
            "order": null,
            "overflow": null,
            "overflow_x": null,
            "overflow_y": null,
            "padding": null,
            "right": null,
            "top": null,
            "visibility": null,
            "width": null
          }
        },
        "a9ba367396954f308e2639b80179d66d": {
          "model_module": "@jupyter-widgets/base",
          "model_name": "LayoutModel",
          "model_module_version": "1.2.0",
          "state": {
            "_model_module": "@jupyter-widgets/base",
            "_model_module_version": "1.2.0",
            "_model_name": "LayoutModel",
            "_view_count": null,
            "_view_module": "@jupyter-widgets/base",
            "_view_module_version": "1.2.0",
            "_view_name": "LayoutView",
            "align_content": null,
            "align_items": null,
            "align_self": null,
            "border": null,
            "bottom": null,
            "display": null,
            "flex": null,
            "flex_flow": null,
            "grid_area": null,
            "grid_auto_columns": null,
            "grid_auto_flow": null,
            "grid_auto_rows": null,
            "grid_column": null,
            "grid_gap": null,
            "grid_row": null,
            "grid_template_areas": null,
            "grid_template_columns": null,
            "grid_template_rows": null,
            "height": null,
            "justify_content": null,
            "justify_items": null,
            "left": null,
            "margin": null,
            "max_height": null,
            "max_width": null,
            "min_height": null,
            "min_width": null,
            "object_fit": null,
            "object_position": null,
            "order": null,
            "overflow": null,
            "overflow_x": null,
            "overflow_y": null,
            "padding": null,
            "right": null,
            "top": null,
            "visibility": null,
            "width": null
          }
        },
        "f13b8e2a8eee41ecb51ed19f124b5c52": {
          "model_module": "@jupyter-widgets/controls",
          "model_name": "DescriptionStyleModel",
          "model_module_version": "1.5.0",
          "state": {
            "_model_module": "@jupyter-widgets/controls",
            "_model_module_version": "1.5.0",
            "_model_name": "DescriptionStyleModel",
            "_view_count": null,
            "_view_module": "@jupyter-widgets/base",
            "_view_module_version": "1.2.0",
            "_view_name": "StyleView",
            "description_width": ""
          }
        },
        "bd41607df2b04a0fa139ca8ea233c172": {
          "model_module": "@jupyter-widgets/base",
          "model_name": "LayoutModel",
          "model_module_version": "1.2.0",
          "state": {
            "_model_module": "@jupyter-widgets/base",
            "_model_module_version": "1.2.0",
            "_model_name": "LayoutModel",
            "_view_count": null,
            "_view_module": "@jupyter-widgets/base",
            "_view_module_version": "1.2.0",
            "_view_name": "LayoutView",
            "align_content": null,
            "align_items": null,
            "align_self": null,
            "border": null,
            "bottom": null,
            "display": null,
            "flex": null,
            "flex_flow": null,
            "grid_area": null,
            "grid_auto_columns": null,
            "grid_auto_flow": null,
            "grid_auto_rows": null,
            "grid_column": null,
            "grid_gap": null,
            "grid_row": null,
            "grid_template_areas": null,
            "grid_template_columns": null,
            "grid_template_rows": null,
            "height": null,
            "justify_content": null,
            "justify_items": null,
            "left": null,
            "margin": null,
            "max_height": null,
            "max_width": null,
            "min_height": null,
            "min_width": null,
            "object_fit": null,
            "object_position": null,
            "order": null,
            "overflow": null,
            "overflow_x": null,
            "overflow_y": null,
            "padding": null,
            "right": null,
            "top": null,
            "visibility": null,
            "width": null
          }
        },
        "9695ae34ee764678af9d3ffdc5c39f96": {
          "model_module": "@jupyter-widgets/controls",
          "model_name": "ProgressStyleModel",
          "model_module_version": "1.5.0",
          "state": {
            "_model_module": "@jupyter-widgets/controls",
            "_model_module_version": "1.5.0",
            "_model_name": "ProgressStyleModel",
            "_view_count": null,
            "_view_module": "@jupyter-widgets/base",
            "_view_module_version": "1.2.0",
            "_view_name": "StyleView",
            "bar_color": null,
            "description_width": ""
          }
        }
      }
    }
  },
  "cells": [
    {
      "cell_type": "markdown",
      "metadata": {
        "id": "view-in-github",
        "colab_type": "text"
      },
      "source": [
        "<a href=\"https://colab.research.google.com/github/mizoru/blog/blob/master/2022-05-24-thunder-speech-pronunciation-trainer.ipynb\" target=\"_parent\"><img src=\"https://colab.research.google.com/assets/colab-badge.svg\" alt=\"Open In Colab\"/></a>"
      ]
    },
    {
      "cell_type": "markdown",
      "source": [
        "# Finetuning a pretrained QuartzNet on TIMIT using [thunder-speech](https://github.com/scart97/thunder-speech)"
      ],
      "metadata": {
        "id": "si_H-JymvGY5"
      }
    },
    {
      "cell_type": "markdown",
      "source": [
        "I talk more about this project [here on Twitter](twitter.com)"
      ],
      "metadata": {
        "id": "Z8jD4rS1zmVt"
      }
    },
    {
      "cell_type": "code",
      "source": [
        "# hide\n",
        "!pip install thunder-speech wandb"
      ],
      "metadata": {
        "id": "Qobh_MJx4J2v"
      },
      "execution_count": null,
      "outputs": []
    },
    {
      "cell_type": "code",
      "source": [
        "# hide\n",
        "!git clone https://github.com/mizoru/pronunciation-trainer.git"
      ],
      "metadata": {
        "id": "K3PDK-9EhM5v"
      },
      "execution_count": null,
      "outputs": []
    },
    {
      "cell_type": "markdown",
      "source": [
        "### Getting the data and the imports ready"
      ],
      "metadata": {
        "id": "FFc9ItE1pFun"
      }
    },
    {
      "cell_type": "code",
      "source": [
        "from kaggle import api\n",
        "api.dataset_download_files('mfekadu/darpa-timit-acousticphonetic-continuous-speech')\n",
        "import zipfile\n",
        "archive = zipfile.ZipFile('darpa-timit-acousticphonetic-continuous-speech.zip')\n",
        "archive.extractall()"
      ],
      "metadata": {
        "id": "Ik-DLLxdGBQL"
      },
      "execution_count": null,
      "outputs": []
    },
    {
      "cell_type": "markdown",
      "source": [
        "This dataset is going to be used as noise"
      ],
      "metadata": {
        "id": "8yoNHc2VpeZV"
      }
    },
    {
      "cell_type": "code",
      "source": [
        "api.dataset_download_files('chrisfilo/urbansound8k')\n",
        "import zipfile\n",
        "archive = zipfile.ZipFile('urbansound8k.zip')\n",
        "archive.extractall('data')"
      ],
      "metadata": {
        "id": "xP2wAsObUelb"
      },
      "execution_count": 21,
      "outputs": []
    },
    {
      "cell_type": "code",
      "source": [
        "import thunder\n",
        "from thunder.callbacks import FinetuneEncoderDecoder\n",
        "from thunder.finetune import FinetuneCTCModule\n",
        "from thunder.data.dataset import BaseSpeechDataset\n",
        "from thunder.data.datamodule import BaseDataModule\n",
        "from thunder.blocks import conv1d_decoder\n",
        "from thunder.quartznet.compatibility import load_quartznet_checkpoint\n",
        "from typing import Any, List, Sequence, Tuple, Union\n",
        "import torch\n",
        "from torch import Tensor, nn\n",
        "from thunder.registry import load_pretrained\n",
        "from thunder.quartznet.compatibility import QuartznetCheckpoint\n",
        "from pathlib import Path\n",
        "import pandas as pd\n",
        "import librosa\n",
        "import numpy as np\n",
        "import torchaudio\n",
        "import pytorch_lightning as pl\n",
        "from math import ceil\n",
        "from IPython.display import Audio"
      ],
      "metadata": {
        "id": "dJbzM2SA4BRv"
      },
      "execution_count": 2,
      "outputs": []
    },
    {
      "cell_type": "code",
      "source": [
        "labels = pd.read_csv('pronunciation-trainer/dataDS.csv')"
      ],
      "metadata": {
        "id": "CrPVHwyN8bCx"
      },
      "execution_count": 3,
      "outputs": []
    },
    {
      "cell_type": "code",
      "source": [
        "noise_files = pd.read_csv('data/UrbanSound8K.csv')\n",
        "noise_files = list('data/fold1/' + noise_files[noise_files.fold==1].slice_file_name)"
      ],
      "metadata": {
        "id": "l0SOEytBXupF"
      },
      "execution_count": 4,
      "outputs": []
    },
    {
      "cell_type": "markdown",
      "source": [
        "### Setting up Dataset and DataModule for training\n",
        "The commented out code is the transforms I tried."
      ],
      "metadata": {
        "id": "KkRrK-BypwJA"
      }
    },
    {
      "cell_type": "code",
      "source": [
        "class TimitDataset(BaseSpeechDataset):\n",
        "  def __init__(\n",
        "        self, items: Sequence, force_mono: bool = True, sample_rate: int = 16000,\n",
        "        time_stretch = 0.2, volume = 0.2, pitch = 2, noise_files = None\n",
        "    ):\n",
        "    super().__init__(items, force_mono, sample_rate)\n",
        "    self.librosa_transforms = bool(time_stretch)\n",
        "    self.time_stretch = time_stretch\n",
        "    self.volume = volume\n",
        "    self.pitch = pitch\n",
        "    self.noise_files = noise_files\n",
        "\n",
        "  def open_audio(self, item) -> Tuple[Tensor, int]:\n",
        "    audio,sr = self.loader.open_audio(item.Path)\n",
        "    if self.noise_files:\n",
        "      idx = int(torch.randint(0, len(self.noise_files), (1,)))\n",
        "      noise = self.loader(self.noise_files[idx]) \n",
        "      noize_level = torch.rand(1) * 40    # [0, 40]\n",
        "\n",
        "      noize_energy = torch.norm(noise)\n",
        "      audio_energy = torch.norm(audio)\n",
        "\n",
        "      alpha = (audio_energy / noize_energy) * torch.pow(10, -noize_level / 20)\n",
        "\n",
        "      if noise.shape[1] < audio.shape[1]:\n",
        "        noise = torch.cat([noise] * ceil(audio.shape[1] / noise.shape[1]), 1)\n",
        "      noise = noise[:,:audio.shape[1]]\n",
        "\n",
        "      audio = audio + alpha * noise\n",
        "      audio.clamp_(-1, 1)\n",
        "\n",
        "    # if self.pitch:                                              #THIS ONE TAKES FOREVER \n",
        "    #   audio = torchaudio.functional.pitch_shift(audio, sr, self.pitch * torch.randn(1))  #AND PROBABLY DOESN'T WORK\n",
        "    # if self.volume:\n",
        "    #   audio = torchaudio.transforms.Vol(torch.abs(1+self.volume*torch.randn(1)))(audio)    #\n",
        "    # if self.librosa_transforms: audio = audio.numpy().squeeze()\n",
        "    # if self.time_stretch:\n",
        "    #   audio = librosa.effects.time_stretch(audio, np.abs(1 + self.time_stretch * np.random.randn()))\n",
        "    # if self.librosa_transforms: audio = torch.Tensor(audio).unsqueeze(0)\n",
        "    return audio, sr \n",
        "  def open_text(self, item) -> str:\n",
        "    return item.Transcription\n",
        "  def get_item(self, index: int) -> Any:\n",
        "    return self.items.iloc[index]"
      ],
      "metadata": {
        "id": "SwjUQ5Q8hgGB"
      },
      "execution_count": 5,
      "outputs": []
    },
    {
      "cell_type": "code",
      "source": [
        "Audio(TimitDataset(labels, noise_files=noise_files)[159][0], rate=16000)"
      ],
      "metadata": {
        "colab": {
          "base_uri": "https://localhost:8080/",
          "height": 61
        },
        "id": "mI-xHyO_WMuZ",
        "outputId": "02500cb7-ca0e-4b79-ec06-25a896619bc6"
      },
      "execution_count": 6,
      "outputs": [
        {
          "output_type": "execute_result",
          "data": {
            "text/plain": [
              "<IPython.lib.display.Audio object>"
            ],
            "text/html": [
              "\n",
              "                <audio controls=\"controls\" >\n",
              "                    <source src=\"data:audio/wav;base64,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\" type=\"audio/wav\" />\n",
              "                    Your browser does not support the audio element.\n",
              "                </audio>\n",
              "              "
            ]
          },
          "metadata": {},
          "execution_count": 6
        }
      ]
    },
    {
      "cell_type": "code",
      "source": [
        "class TimtiDataModule(BaseDataModule):\n",
        "  def __init__(\n",
        "        self,\n",
        "        batch_size: int = 32,\n",
        "        num_workers: int = 2,\n",
        "        time_stretch = 0.2, volume = 0.2, pitch = 2, noise_files=None\n",
        "    ):\n",
        "    super().__init__(batch_size, num_workers)\n",
        "    self.time_stretch = time_stretch\n",
        "    self.volume = volume\n",
        "    self.pitch = pitch\n",
        "    self.noise_files = noise_files\n",
        "\n",
        "  def get_dataset(self, split):\n",
        "    if split != \"train\":\n",
        "      return TimitDataset(labels[labels[\"is_valid\"]], time_stretch = False, volume = False, pitch = False)\n",
        "    else:\n",
        "      return TimitDataset(labels[labels[\"is_valid\"] == False],\n",
        "                          time_stretch = self.time_stretch, volume = self.volume, pitch = self.pitch,\n",
        "                          noise_files = self.noise_files)"
      ],
      "metadata": {
        "id": "gjIN6M9N9nU_"
      },
      "execution_count": 7,
      "outputs": []
    },
    {
      "cell_type": "code",
      "source": [
        "dm = TimtiDataModule(batch_size=32, noise_files=noise_files)"
      ],
      "metadata": {
        "id": "sOisHhEVQh_K"
      },
      "execution_count": 8,
      "outputs": []
    },
    {
      "cell_type": "markdown",
      "source": [
        "getting the tokens from my data"
      ],
      "metadata": {
        "id": "PwNd_5aPqXjW"
      }
    },
    {
      "cell_type": "code",
      "source": [
        "whole = '.'.join([t for t in labels.Transcription])\n",
        "tokens = list(set(whole.split('.')))\n",
        "len(tokens)"
      ],
      "metadata": {
        "id": "t0MAGQGo60i1",
        "colab": {
          "base_uri": "https://localhost:8080/"
        },
        "outputId": "36b75b59-afa2-4918-b843-32dd4ed888d5"
      },
      "execution_count": 9,
      "outputs": [
        {
          "output_type": "execute_result",
          "data": {
            "text/plain": [
              "58"
            ]
          },
          "metadata": {},
          "execution_count": 9
        }
      ]
    },
    {
      "cell_type": "code",
      "source": [
        "def dot_tokenizer(s:str):\n",
        "  return s.split('.')"
      ],
      "metadata": {
        "id": "WO_2iUusI0KW"
      },
      "execution_count": 10,
      "outputs": []
    },
    {
      "cell_type": "markdown",
      "source": [
        "### Adapting pretrained weights"
      ],
      "metadata": {
        "id": "yw5kLlLQqkvn"
      }
    },
    {
      "cell_type": "code",
      "source": [
        "model = FinetuneCTCModule(QuartznetCheckpoint.QuartzNet15x5Base_En,\n",
        "                          decoder_class = conv1d_decoder, tokens = tokens,\n",
        "                          text_kwargs={'custom_tokenizer_function':dot_tokenizer})"
      ],
      "metadata": {
        "id": "y7lUie6dvR9q"
      },
      "execution_count": 11,
      "outputs": []
    },
    {
      "cell_type": "markdown",
      "source": [
        "These next five cells import the weights of the decoder from a trained models and adapt them into the new decoder.\n",
        "\n",
        "`correspondences` is a dictionary that assigns every token in the new decoder the corresponding token in the trained decoder to take the model parameters from."
      ],
      "metadata": {
        "id": "aWwqgyMRquXU"
      }
    },
    {
      "cell_type": "code",
      "source": [
        "correspnodences  = {'s': 's', 'n': 'n', 'dʒ': 'j', 'd̚': 'd', 'w': 'w', 'b': 'b', 'g': 'g', 'm': 'm',\n",
        "                    'l̩': 'l', 'f': 'f', 'l': 'l', 'j': 'y', 'k': 'k', 'eɪ': 'a', 'p̚': 'p', 'm̩': 'm',\n",
        "                    'r': 'r', 't': 't', 'h': 'h', 'aʊ': 'o', 'n̩': 'n', 'i': 'e', 'b̚': 'b', 'p': 'p',\n",
        "                    'k̚': 'k', 'd': 'd', 'u': 'o', 't̚': 't', 'z': 'z', 'aɪ': 'i', 'v': 'v', 'tʃ': 'c',\n",
        "                    'oʊ': 'o', '<blank>' : '<blank>', 'ɝ' : 'e', 'ʉ' : 'o', 'ð' : 't', 'θ' : 't', 'ɚ' : 'e',\n",
        "                    'ɦ' : 'h', 'ŋ' : 'n', 'ʔ' : 't', 'ʒ' : 's', 'ʊ' : 'o', 'ɾ' : 't', 'ɪ' : 'i', 'ə̥' : 'u',\n",
        "                    'ɑ' : 'a', 'ə' : 'e', 'ɛ' : 'e', 'ɔɪ' : 'o', 'ɡ̚' : 'g', 'ɔ' : 'o', 'ɨ̞' : 'i', 'ŋ̩' : 'n',\n",
        "                    'ʌ' : 'u', 'ɾ̃' : 'n', 'ʃ' : 's', 'æ' : 'a'}"
      ],
      "metadata": {
        "id": "6_inBLDkA4nP"
      },
      "execution_count": 12,
      "outputs": []
    },
    {
      "cell_type": "code",
      "source": [
        "def adapt_into_new_decoder(decoder, old_vocab, new_vocab, correspnodences = None):\n",
        "  if correspnodences == None:\n",
        "    correspnodences = {k:k[0] for k in new_vocab.keys() if k and k[0] in old_vocab.keys()}\n",
        "  with torch.no_grad():\n",
        "    new_decoder = conv1d_decoder(1024, len(new_vocab))\n",
        "    weight = decoder.weight\n",
        "    bias = decoder.bias\n",
        "    for new_token,old_token in correspnodences.items():\n",
        "        new_decoder.weight[new_vocab[new_token]] = weight[old_vocab[old_token]]\n",
        "        new_decoder.bias[new_vocab[new_token]] = bias[old_vocab[old_token]]\n",
        "  return new_decoder"
      ],
      "metadata": {
        "id": "Ee9FDSg7KE2X"
      },
      "execution_count": 13,
      "outputs": []
    },
    {
      "cell_type": "code",
      "source": [
        "checkpoint_model = load_quartznet_checkpoint(QuartznetCheckpoint.QuartzNet15x5Base_En)"
      ],
      "metadata": {
        "id": "D46ASoAH1NuL"
      },
      "execution_count": 14,
      "outputs": []
    },
    {
      "cell_type": "markdown",
      "source": [
        "These `vocab` dictionaries give the function `adapt_into_new_decoder` the indices in the weight matrix of the decoder for the corresponding tokens."
      ],
      "metadata": {
        "id": "fs2j27W3sBgI"
      }
    },
    {
      "cell_type": "code",
      "source": [
        "old_vocab = checkpoint_model.text_transform.vocab.itos\n",
        "old_vocab = {k:v for (v, k) in enumerate(old_vocab)}\n",
        "new_vocab = {k:v for (v, k) in enumerate(model.text_transform.vocab.itos)}"
      ],
      "metadata": {
        "id": "vtfkPufP2Ctf"
      },
      "execution_count": 15,
      "outputs": []
    },
    {
      "cell_type": "code",
      "source": [
        "model.decoder = adapt_into_new_decoder(checkpoint_model.decoder, old_vocab, new_vocab, correspnodences)\n",
        "del checkpoint_model"
      ],
      "metadata": {
        "id": "kxvspwf714bw"
      },
      "execution_count": 16,
      "outputs": []
    },
    {
      "cell_type": "markdown",
      "source": [
        "### Training"
      ],
      "metadata": {
        "id": "dIOQgvAWsjyx"
      }
    },
    {
      "cell_type": "code",
      "source": [
        "import wandb\n",
        "from pytorch_lightning.loggers import WandbLogger"
      ],
      "metadata": {
        "id": "z9NXYck33DEN"
      },
      "execution_count": 19,
      "outputs": []
    },
    {
      "cell_type": "code",
      "source": [
        "wandb_logger = WandbLogger(project='pronunciation-trainer', name='transform-thunder')"
      ],
      "metadata": {
        "colab": {
          "base_uri": "https://localhost:8080/",
          "height": 87
        },
        "id": "SmqadxiDJrpY",
        "outputId": "b00a41d7-a28e-42af-9017-1d694a8b49f8"
      },
      "execution_count": 20,
      "outputs": [
        {
          "output_type": "stream",
          "name": "stderr",
          "text": [
            "\u001b[34m\u001b[1mwandb\u001b[0m: Currently logged in as: \u001b[33mmizoru\u001b[0m. Use \u001b[1m`wandb login --relogin`\u001b[0m to force relogin\n"
          ]
        },
        {
          "output_type": "display_data",
          "data": {
            "text/plain": [
              "<IPython.core.display.HTML object>"
            ],
            "text/html": [
              "Tracking run with wandb version 0.12.16"
            ]
          },
          "metadata": {}
        },
        {
          "output_type": "display_data",
          "data": {
            "text/plain": [
              "<IPython.core.display.HTML object>"
            ],
            "text/html": [
              "Run data is saved locally in <code>/content/wandb/run-20220523_192302-fkhq1fxl</code>"
            ]
          },
          "metadata": {}
        },
        {
          "output_type": "display_data",
          "data": {
            "text/plain": [
              "<IPython.core.display.HTML object>"
            ],
            "text/html": [
              "Syncing run <strong><a href=\"https://wandb.ai/mizoru/pronunciation-trainer/runs/fkhq1fxl\" target=\"_blank\">transform-thunder-9</a></strong> to <a href=\"https://wandb.ai/mizoru/pronunciation-trainer\" target=\"_blank\">Weights & Biases</a> (<a href=\"https://wandb.me/run\" target=\"_blank\">docs</a>)<br/>"
            ]
          },
          "metadata": {}
        }
      ]
    },
    {
      "cell_type": "markdown",
      "source": [
        "Setting a higher `encoder_initial_lr_div` led to less overfitting."
      ],
      "metadata": {
        "id": "nxE74mluuzkW"
      }
    },
    {
      "cell_type": "code",
      "source": [
        "trainer = pl.Trainer(\n",
        "    gpus=-1, # Use all gpus\n",
        "    max_epochs=30,\n",
        "    callbacks=[FinetuneEncoderDecoder(unfreeze_encoder_at_epoch=15, encoder_initial_lr_div=100)],\n",
        "   logger = wandb_logger\n",
        ")"
      ],
      "metadata": {
        "colab": {
          "base_uri": "https://localhost:8080/"
        },
        "id": "xXof-d8GD4Rd",
        "outputId": "981467af-5eed-4acc-e7c6-cbd3e903f90c"
      },
      "execution_count": 21,
      "outputs": [
        {
          "output_type": "stream",
          "name": "stderr",
          "text": [
            "GPU available: True, used: True\n",
            "TPU available: False, using: 0 TPU cores\n",
            "IPU available: False, using: 0 IPUs\n",
            "HPU available: False, using: 0 HPUs\n"
          ]
        }
      ]
    },
    {
      "cell_type": "code",
      "source": [
        "trainer.fit(model = model, datamodule=dm)"
      ],
      "metadata": {
        "id": "WY5S5NijEBM7"
      },
      "execution_count": null,
      "outputs": []
    },
    {
      "cell_type": "code",
      "source": [
        "trainer.validate(model = model, datamodule=dm)"
      ],
      "metadata": {
        "id": "Snw5mjQtEZKq"
      },
      "execution_count": null,
      "outputs": []
    },
    {
      "cell_type": "markdown",
      "source": [
        "let's save our model for inference"
      ],
      "metadata": {
        "id": "NluD2MDDsuye"
      }
    },
    {
      "cell_type": "code",
      "source": [
        "model.to_torchscript(\"QuartzNet_thunderspeech.pt\")"
      ],
      "metadata": {
        "id": "qjsqTVgPHucR"
      },
      "execution_count": null,
      "outputs": []
    },
    {
      "cell_type": "code",
      "source": [
        "wandb.save('QuartzNet_thunderspeech.pt', policy='now')"
      ],
      "metadata": {
        "id": "TdQQrrBbIQzE",
        "colab": {
          "base_uri": "https://localhost:8080/"
        },
        "outputId": "78e3ab36-b513-41d7-88cb-a29bcdd3295f"
      },
      "execution_count": 24,
      "outputs": [
        {
          "output_type": "execute_result",
          "data": {
            "text/plain": [
              "['/content/wandb/run-20220523_192302-fkhq1fxl/files/QuartzNet_thunderspeech_noise.pt']"
            ]
          },
          "metadata": {},
          "execution_count": 24
        }
      ]
    },
    {
      "cell_type": "code",
      "source": [
        "wandb.finish()"
      ],
      "metadata": {
        "id": "cg7ytIQNJD7c",
        "colab": {
          "base_uri": "https://localhost:8080/",
          "height": 278,
          "referenced_widgets": [
            "5fe08be843ef4dcb81ad3933d9f79107",
            "de68f89faf174c9a8cbb2ad83886582d",
            "f3628b8c8dbf498fa9df5191618eabfd",
            "0fc05707b97347948f431a7b21a4f66d",
            "a9ba367396954f308e2639b80179d66d",
            "f13b8e2a8eee41ecb51ed19f124b5c52",
            "bd41607df2b04a0fa139ca8ea233c172",
            "9695ae34ee764678af9d3ffdc5c39f96"
          ]
        },
        "outputId": "5d0ea743-2bbb-4e3c-edee-953d0eab09d6"
      },
      "execution_count": 25,
      "outputs": [
        {
          "output_type": "display_data",
          "data": {
            "text/plain": [
              "<IPython.core.display.HTML object>"
            ],
            "text/html": [
              "Waiting for W&B process to finish... <strong style=\"color:green\">(success).</strong>"
            ]
          },
          "metadata": {}
        },
        {
          "output_type": "display_data",
          "data": {
            "text/plain": [
              "VBox(children=(Label(value='73.593 MB of 73.593 MB uploaded (0.000 MB deduped)\\r'), FloatProgress(value=1.0, m…"
            ],
            "application/vnd.jupyter.widget-view+json": {
              "version_major": 2,
              "version_minor": 0,
              "model_id": "5fe08be843ef4dcb81ad3933d9f79107"
            }
          },
          "metadata": {}
        },
        {
          "output_type": "display_data",
          "data": {
            "text/plain": [
              "<IPython.core.display.HTML object>"
            ],
            "text/html": [
              "<style>\n",
              "    table.wandb td:nth-child(1) { padding: 0 10px; text-align: left ; width: auto;} td:nth-child(2) {text-align: left ; width: 100%}\n",
              "    .wandb-row { display: flex; flex-direction: row; flex-wrap: wrap; justify-content: flex-start; width: 100% }\n",
              "    .wandb-col { display: flex; flex-direction: column; flex-basis: 100%; flex: 1; padding: 10px; }\n",
              "    </style>\n",
              "<div class=\"wandb-row\"><div class=\"wandb-col\"><h3>Run history:</h3><br/><table class=\"wandb\"><tr><td>epoch</td><td>▁▁▁▁▂▂▂▂▂▂▃▃▃▃▃▄▄▄▄▄▅▅▅▅▅▆▆▆▆▆▇▇▇▇▇▇████</td></tr><tr><td>loss/train_loss</td><td>█▅▄▄▄▅▃▃▃▃▃▃▃▄▄▃▃▃▄▄▂▂▃▃▂▃▂▂▂▁▁▁▁▂▁▁▁▁▂▂</td></tr><tr><td>loss/val_loss</td><td>█▅▃▄▃▃▂▂▂▃▂▂▆▂▁▁▂▂▂▁▂▂▃▁▂▁▁▁▂▂</td></tr><tr><td>metrics/cer</td><td>█▅▃▄▃▃▃▃▃▄▂▃▄▂▂▂▂▂▂▂▂▂▃▂▂▂▂▁▂▂</td></tr><tr><td>metrics/wer</td><td>█▇▅▆▅▅▅▄▆▇▄▅▄▃▃▅▅▃▅▂▄▅▆▄▃▂▄▁▁▅</td></tr><tr><td>trainer/global_step</td><td>▁▁▁▁▂▂▂▂▂▃▃▃▃▃▄▄▄▄▄▄▅▅▅▅▅▅▆▆▆▆▆▇▇▇▇▇████</td></tr></table><br/></div><div class=\"wandb-col\"><h3>Run summary:</h3><br/><table class=\"wandb\"><tr><td>epoch</td><td>29</td></tr><tr><td>loss/train_loss</td><td>0.48765</td></tr><tr><td>loss/val_loss</td><td>0.59861</td></tr><tr><td>metrics/cer</td><td>0.19373</td></tr><tr><td>metrics/wer</td><td>0.99464</td></tr><tr><td>trainer/global_step</td><td>4349</td></tr></table><br/></div></div>"
            ]
          },
          "metadata": {}
        },
        {
          "output_type": "display_data",
          "data": {
            "text/plain": [
              "<IPython.core.display.HTML object>"
            ],
            "text/html": [
              "Synced <strong style=\"color:#cdcd00\">transform-thunder-9</strong>: <a href=\"https://wandb.ai/mizoru/pronunciation-trainer/runs/fkhq1fxl\" target=\"_blank\">https://wandb.ai/mizoru/pronunciation-trainer/runs/fkhq1fxl</a><br/>Synced 5 W&B file(s), 0 media file(s), 0 artifact file(s) and 1 other file(s)"
            ]
          },
          "metadata": {}
        },
        {
          "output_type": "display_data",
          "data": {
            "text/plain": [
              "<IPython.core.display.HTML object>"
            ],
            "text/html": [
              "Find logs at: <code>./wandb/run-20220523_192302-fkhq1fxl/logs</code>"
            ]
          },
          "metadata": {}
        }
      ]
    },
    {
      "cell_type": "markdown",
      "source": [
        "### Getting predictions for the app"
      ],
      "metadata": {
        "id": "cDjqPwKDs4Ym"
      }
    },
    {
      "cell_type": "code",
      "source": [
        "loader = AudioFileLoader(sample_rate=16000)"
      ],
      "metadata": {
        "id": "1YI5nF1KPOBn"
      },
      "execution_count": 37,
      "outputs": []
    },
    {
      "cell_type": "code",
      "source": [
        "natives = pd.read_csv('pronunciation-trainer/natives.csv')"
      ],
      "metadata": {
        "id": "Qe7xrR5oji0b"
      },
      "execution_count": 29,
      "outputs": []
    },
    {
      "cell_type": "markdown",
      "source": [
        "I came up with a small list of words, that learners might struggle with differentiating."
      ],
      "metadata": {
        "id": "-cLb0d2tt_9X"
      }
    },
    {
      "cell_type": "code",
      "source": [
        "subset = [\"thin\", \"thing\", \"think\", \"fit\", \"feet\", \"bald\", \"bold\", \"food\", \"foot\", \"death\", \"deaf\", \"worm\", \"warm\"]"
      ],
      "metadata": {
        "id": "ptqBtxwwlool"
      },
      "execution_count": 30,
      "outputs": []
    },
    {
      "cell_type": "code",
      "source": [
        "subset_df = natives[natives.replica.isin(subset)]"
      ],
      "metadata": {
        "id": "dl2fg08Nlv5V"
      },
      "execution_count": 31,
      "outputs": []
    },
    {
      "cell_type": "markdown",
      "source": [
        "This dataset contains audio for single words."
      ],
      "metadata": {
        "id": "ZuS3Hn1ct4Oz"
      }
    },
    {
      "cell_type": "code",
      "source": [
        "!wget https://lingualibre.org/datasets/Q22-eng-English.zip"
      ],
      "metadata": {
        "colab": {
          "base_uri": "https://localhost:8080/"
        },
        "id": "2bH72NJKlx3k",
        "outputId": "ccf6376b-2be3-4421-edae-5cf2d8dcabcd"
      },
      "execution_count": 32,
      "outputs": [
        {
          "output_type": "stream",
          "name": "stdout",
          "text": [
            "--2022-05-23 20:27:30--  https://lingualibre.org/datasets/Q22-eng-English.zip\n",
            "Resolving lingualibre.org (lingualibre.org)... 152.228.161.167, 2001:41d0:304:100::4790\n",
            "Connecting to lingualibre.org (lingualibre.org)|152.228.161.167|:443... connected.\n",
            "HTTP request sent, awaiting response... 200 OK\n",
            "Length: 321221694 (306M) [application/zip]\n",
            "Saving to: ‘Q22-eng-English.zip’\n",
            "\n",
            "Q22-eng-English.zip 100%[===================>] 306.34M  11.6MB/s    in 27s     \n",
            "\n",
            "2022-05-23 20:27:57 (11.4 MB/s) - ‘Q22-eng-English.zip’ saved [321221694/321221694]\n",
            "\n"
          ]
        }
      ]
    },
    {
      "cell_type": "code",
      "source": [
        "import zipfile\n",
        "archive = zipfile.ZipFile('Q22-eng-English.zip')\n",
        "archive.extractall()"
      ],
      "metadata": {
        "id": "oTq0JeGGmSkz"
      },
      "execution_count": 33,
      "outputs": []
    },
    {
      "cell_type": "markdown",
      "source": [
        "I get the raw prediction tensors and then convert them."
      ],
      "metadata": {
        "id": "du5yJd4luS9d"
      }
    },
    {
      "cell_type": "code",
      "source": [
        "model.eval()\n",
        "predicts = []\n",
        "for i in range(len(subset_df)):\n",
        "  path = str(Path('Q22-eng-English') / '/'.join(subset_df.path.iloc[i].split('/')[2:]))\n",
        "  # print(path)\n",
        "  try:\n",
        "    audio = loader(path)\n",
        "    predicts.append(model(audio, torch.tensor(audio.shape[0] * [audio.shape[-1]], device=audio.device)))\n",
        "  except Exception:\n",
        "    predicts.append(None)\n",
        "  # print(predicts[-1])"
      ],
      "metadata": {
        "id": "LtySNz7oqQmT"
      },
      "execution_count": null,
      "outputs": []
    },
    {
      "cell_type": "code",
      "source": [
        "vocab = model.text_transform.vocab.itos\n",
        "vocab[-1] = ''"
      ],
      "metadata": {
        "id": "Di2DIk6Lp7O3"
      },
      "execution_count": 41,
      "outputs": []
    },
    {
      "cell_type": "code",
      "source": [
        "for i in range(len(predicts)):\n",
        "  if predicts[i] != None:\n",
        "    ids = predicts[i][0].argmax(1)[0]\n",
        "    s = []\n",
        "    # print(ids)\n",
        "    if vocab[ids[0]]: s.append(vocab[ids[0]])\n",
        "    for l in range(1,len(ids)):\n",
        "      if ids[l-1] != ids[l]:\n",
        "        new = vocab[ids[l]]\n",
        "        if new: s.append(new)\n",
        "    predicts[i] = '.'.join(s)"
      ],
      "metadata": {
        "id": "QI3Q7ls4pJrX"
      },
      "execution_count": 55,
      "outputs": []
    },
    {
      "cell_type": "code",
      "source": [
        "predicts"
      ],
      "metadata": {
        "colab": {
          "base_uri": "https://localhost:8080/"
        },
        "id": "JEnnx73Vq1wX",
        "outputId": "e4040aa5-6440-46c6-a5fd-fae57ee08ce7"
      },
      "execution_count": 56,
      "outputs": [
        {
          "output_type": "execute_result",
          "data": {
            "text/plain": [
              "['d̚.d.ɛ.s',\n",
              " 'f.i.t̚.t',\n",
              " 's.ʉ.d̚.d.ɨ̞',\n",
              " 'f.ɔ.t̚.t',\n",
              " 'p̚.p.ɛ.n',\n",
              " 'θ.ɪ.ŋ',\n",
              " 't.eɪ.t̚.t',\n",
              " 'r.ɪ.ɪ.ɡ̚.ɨ̞.ɚ',\n",
              " 'w.ɛ.m.ə',\n",
              " 's.ʃ.s.ʉ.ɪ.i',\n",
              " 'f.l.ɔ.ɑ.ɚ',\n",
              " 's.eɪ',\n",
              " 'w.ɔ.r.ɦ.æ.v.i.ŋ.j.ɨ̞',\n",
              " None,\n",
              " None,\n",
              " None,\n",
              " None,\n",
              " 'f.ʌ.t̚.t.t.ɪ.m',\n",
              " 'f.eɪ.n.ɝ',\n",
              " 't.r.ɚ.ɡ̚.g.j.u.ɑ.ɾ.ɨ̞.ɾ.i',\n",
              " 'w.ɛ.ɨ̞.t̚',\n",
              " 'k.eɪ.t̚.t.ɨ̞.t̚.t.s.ɛ.d̚',\n",
              " 'k.i.ʉ.d̚.d.ɨ̞.ɔ',\n",
              " 'k.l.ʊ.t̚.t.n̩.ʃ.ɝ.n',\n",
              " 'k̚.t̚.t.aɪ.n',\n",
              " 'ʃ.ʌ.ɑ.ŋ.ə.ʉ',\n",
              " 'k̚.k.ɛ.l',\n",
              " 'ð.ə.w.ɔ.ɛ',\n",
              " 'b.ɔɪ.ə.v.b̚.ɨ̞',\n",
              " 's.ɪ.ɾ̃.ɪ.d̚.d',\n",
              " 's.ʌ.n',\n",
              " 'f.ɔ.ɾ.ə.t̚.t.i.n',\n",
              " 'ɔ.ɨ̞.t̚.tʃ.t̚.t.ə̥.s.æ.ɾ̃.u',\n",
              " 'w.ɛ.ɑ']"
            ]
          },
          "metadata": {},
          "execution_count": 56
        }
      ]
    },
    {
      "cell_type": "code",
      "source": [
        "subset_df[\"transcription\"] = predicts"
      ],
      "metadata": {
        "id": "9yblgiI-rN2R"
      },
      "execution_count": null,
      "outputs": []
    },
    {
      "cell_type": "code",
      "source": [
        "subset_df.to_csv(\"native_words_subset.csv\", index=False)"
      ],
      "metadata": {
        "id": "ZIfS1_33rVLB"
      },
      "execution_count": 59,
      "outputs": []
    }
  ]
}
