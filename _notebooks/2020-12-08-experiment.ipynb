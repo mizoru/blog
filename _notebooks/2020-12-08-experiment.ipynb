{
 "cells": [
  {
   "cell_type": "markdown",
   "metadata": {},
   "source": [
    "# Исследование студентов НИУ ВШЭ"
   ]
  },
  {
   "cell_type": "markdown",
   "metadata": {
    "hide_input": true
   },
   "source": [
    "## Нажмите на кнопку, чтобы приступить к эксперименту:"
   ]
  },
  {
   "cell_type": "code",
   "execution_count": 21,
   "metadata": {
    "hide_input": true
   },
   "outputs": [
    {
     "data": {
      "text/html": [
       "<script type=\"text/javascript\">\n",
       "function randomlinks(){\n",
       "    var myrandom = localStorage.getItem('testVerRandI') || Math.floor(Math.random()*4)\n",
       "    localStorage.setItem('testVerRandI',myrandom);\n",
       "    var links=new Array()\n",
       "    links[0]=\"https://farm.pcibex.net/p/DBGzbk/\"\n",
       "    links[1]=\"https://farm.pcibex.net/p/ujhQkn/\"\n",
       "    links[2]=\"https://farm.pcibex.net/p/wRdlrR/\"\n",
       "    links[3]=\"https://farm.pcibex.net/p/XXbazX/\"\n",
       " \n",
       "    window.location=links[myrandom]\n",
       "}\n",
       "</script>\n",
       "<form>\n",
       "<input type=\"button\" value=\"Приступить!\" onClick=\"randomlinks()\">\n",
       "</form>\n"
      ],
      "text/plain": [
       "<IPython.core.display.HTML object>"
      ]
     },
     "metadata": {},
     "output_type": "display_data"
    }
   ],
   "source": [
    "%%html\n",
    "<script type=\"text/javascript\">\n",
    "function randomlinks(){\n",
    "    var myrandom = localStorage.getItem('testVerRandI') || Math.floor(Math.random()*4)\n",
    "    localStorage.setItem('testVerRandI',myrandom);\n",
    "    var links=new Array()\n",
    "    links[0]=\"https://farm.pcibex.net/p/DBGzbk/\"\n",
    "    links[1]=\"https://farm.pcibex.net/p/ujhQkn/\"\n",
    "    links[2]=\"https://farm.pcibex.net/p/wRdlrR/\"\n",
    "    links[3]=\"https://farm.pcibex.net/p/XXbazX/\"\n",
    " \n",
    "    window.location=links[myrandom]\n",
    "}\n",
    "</script>\n",
    "<form>\n",
    "<input type=\"button\" value=\"Приступить!\" onClick=\"randomlinks()\">\n",
    "</form>"
   ]
  }
 ],
 "metadata": {
  "kernelspec": {
   "display_name": "Python 3",
   "language": "python",
   "name": "python3"
  },
  "language_info": {
   "codemirror_mode": {
    "name": "ipython",
    "version": 3
   },
   "file_extension": ".py",
   "mimetype": "text/x-python",
   "name": "python",
   "nbconvert_exporter": "python",
   "pygments_lexer": "ipython3",
   "version": "3.8.5"
  }
 },
 "nbformat": 4,
 "nbformat_minor": 4
}
