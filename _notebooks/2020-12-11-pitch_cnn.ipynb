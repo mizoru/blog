{
 "cells": [
  {
   "cell_type": "markdown",
   "id": "d3f5c451-88fd-4563-892f-1eb0d82f3625",
   "metadata": {},
   "source": [
    "# Classifying pitch accent from spectrograms with XResNet"
   ]
  },
  {
   "cell_type": "code",
   "execution_count": 1,
   "id": "9aebf7c5-98da-43ab-8d24-d5834081cb74",
   "metadata": {},
   "outputs": [
    {
     "name": "stderr",
     "output_type": "stream",
     "text": [
      "/home/studio-lab-user/.conda/envs/default/lib/python3.9/site-packages/torchaudio/backend/utils.py:46: UserWarning: \"torchaudio.USE_SOUNDFILE_LEGACY_INTERFACE\" flag is deprecated and will be removed in 0.9.0. Please remove the use of flag.\n",
      "  warnings.warn(\n"
     ]
    }
   ],
   "source": [
    "import fastaudio\n",
    "from fastaudio.core.all import *\n",
    "from fastai.vision.all import *"
   ]
  },
  {
   "cell_type": "code",
   "execution_count": 145,
   "id": "cc4408a4-4a83-4620-9ff6-a3daa511103c",
   "metadata": {},
   "outputs": [],
   "source": [
    "%config InlineBackend.figure_format = 'retina'"
   ]
  },
  {
   "cell_type": "code",
   "execution_count": 2,
   "id": "578288be-ccdd-499c-8980-a9e096d60d29",
   "metadata": {},
   "outputs": [
    {
     "data": {
      "text/plain": [
       "Path('.')"
      ]
     },
     "execution_count": 2,
     "metadata": {},
     "output_type": "execute_result"
    }
   ],
   "source": [
    "Path()"
   ]
  },
  {
   "cell_type": "code",
   "execution_count": 3,
   "id": "d313d4fb-a6aa-4803-8b57-15364d02e4ee",
   "metadata": {},
   "outputs": [],
   "source": [
    "# here = untar_data(\"https://gitlab.com/mizoru/datasets/-/raw/main/cleanAudio.tar\")"
   ]
  },
  {
   "cell_type": "code",
   "execution_count": 4,
   "id": "89c6434b-1b99-43d3-96da-09d6d20a5ea3",
   "metadata": {},
   "outputs": [],
   "source": [
    "# tarfile.open(\"/home/studio-lab-user/.fastai/archive/cleanAudio.tar\").extractall()"
   ]
  },
  {
   "cell_type": "code",
   "execution_count": 84,
   "id": "f78e99e8-31d2-47b7-92f0-3274cc6c1c00",
   "metadata": {},
   "outputs": [],
   "source": [
    "path = Path()/'cleanAudio'"
   ]
  },
  {
   "cell_type": "code",
   "execution_count": 6,
   "id": "b1fd6aa1-3db0-469e-b69e-d6b4a7b366b1",
   "metadata": {},
   "outputs": [
    {
     "data": {
      "text/plain": [
       "(#1) [Path('labels_no_duplicates.csv')]"
      ]
     },
     "execution_count": 6,
     "metadata": {},
     "output_type": "execute_result"
    }
   ],
   "source": [
    "# path.ls(file_exts='.csv')"
   ]
  },
  {
   "cell_type": "code",
   "execution_count": 7,
   "id": "3b4c2588-15ca-404d-a271-9895fd13f436",
   "metadata": {},
   "outputs": [],
   "source": [
    "# shutil.move(path/'labels_no_duplicates.csv', Path())"
   ]
  },
  {
   "cell_type": "code",
   "execution_count": 8,
   "id": "fc14914c-dda2-4f84-99c8-83143242348c",
   "metadata": {},
   "outputs": [],
   "source": [
    "data = pd.read_csv('labels_no_duplicates.csv', low_memory=False)"
   ]
  },
  {
   "cell_type": "code",
   "execution_count": 9,
   "id": "eabc62b9-d01c-41b9-b032-8885296b43e8",
   "metadata": {},
   "outputs": [
    {
     "data": {
      "text/html": [
       "<div>\n",
       "<style scoped>\n",
       "    .dataframe tbody tr th:only-of-type {\n",
       "        vertical-align: middle;\n",
       "    }\n",
       "\n",
       "    .dataframe tbody tr th {\n",
       "        vertical-align: top;\n",
       "    }\n",
       "\n",
       "    .dataframe thead th {\n",
       "        text-align: right;\n",
       "    }\n",
       "</style>\n",
       "<table border=\"1\" class=\"dataframe\">\n",
       "  <thead>\n",
       "    <tr style=\"text-align: right;\">\n",
       "      <th></th>\n",
       "      <th>Unnamed: 0</th>\n",
       "      <th>path</th>\n",
       "      <th>pattern</th>\n",
       "      <th>kana</th>\n",
       "      <th>syl</th>\n",
       "      <th>drop</th>\n",
       "    </tr>\n",
       "  </thead>\n",
       "  <tbody>\n",
       "    <tr>\n",
       "      <th>0</th>\n",
       "      <td>0</td>\n",
       "      <td>ある.yomi000142BB_0596.mp3</td>\n",
       "      <td>頭高</td>\n",
       "      <td>アル</td>\n",
       "      <td>2</td>\n",
       "      <td>1</td>\n",
       "    </tr>\n",
       "    <tr>\n",
       "      <th>1</th>\n",
       "      <td>2</td>\n",
       "      <td>思う.yomi0006C617_043A.mp3</td>\n",
       "      <td>中高</td>\n",
       "      <td>オモウ</td>\n",
       "      <td>3</td>\n",
       "      <td>2</td>\n",
       "    </tr>\n",
       "    <tr>\n",
       "      <th>2</th>\n",
       "      <td>3</td>\n",
       "      <td>など.yomi000240B7_0028.mp3</td>\n",
       "      <td>頭高</td>\n",
       "      <td>ナド</td>\n",
       "      <td>2</td>\n",
       "      <td>1</td>\n",
       "    </tr>\n",
       "    <tr>\n",
       "      <th>3</th>\n",
       "      <td>4</td>\n",
       "      <td>私.yomi00092F63_0072.mp3</td>\n",
       "      <td>平板</td>\n",
       "      <td>ワタくシ</td>\n",
       "      <td>4</td>\n",
       "      <td>0</td>\n",
       "    </tr>\n",
       "    <tr>\n",
       "      <th>4</th>\n",
       "      <td>5</td>\n",
       "      <td>見る.yomi000A41BD_001E.mp3</td>\n",
       "      <td>頭高</td>\n",
       "      <td>ミル</td>\n",
       "      <td>2</td>\n",
       "      <td>1</td>\n",
       "    </tr>\n",
       "    <tr>\n",
       "      <th>...</th>\n",
       "      <td>...</td>\n",
       "      <td>...</td>\n",
       "      <td>...</td>\n",
       "      <td>...</td>\n",
       "      <td>...</td>\n",
       "      <td>...</td>\n",
       "    </tr>\n",
       "    <tr>\n",
       "      <th>66489</th>\n",
       "      <td>74183</td>\n",
       "      <td>捨てがな_捨て仮名.yomi00072538_06BE.mp3</td>\n",
       "      <td>平板</td>\n",
       "      <td>すテカ゚ナ</td>\n",
       "      <td>5</td>\n",
       "      <td>0</td>\n",
       "    </tr>\n",
       "    <tr>\n",
       "      <th>66490</th>\n",
       "      <td>74185</td>\n",
       "      <td>くも膜下出血_蜘蛛膜下出血.yomi0001AAD1_0622.mp3</td>\n",
       "      <td>中高</td>\n",
       "      <td>クモマッカしュッケツ</td>\n",
       "      <td>10</td>\n",
       "      <td>6</td>\n",
       "    </tr>\n",
       "    <tr>\n",
       "      <th>66491</th>\n",
       "      <td>74187</td>\n",
       "      <td>捜す.yomi00072507_0088.mp3</td>\n",
       "      <td>平板</td>\n",
       "      <td>サカ゚ス</td>\n",
       "      <td>4</td>\n",
       "      <td>0</td>\n",
       "    </tr>\n",
       "    <tr>\n",
       "      <th>66492</th>\n",
       "      <td>74188</td>\n",
       "      <td>捜し物.yomi000724FD_0424.mp3</td>\n",
       "      <td>平板</td>\n",
       "      <td>サカ゚シモノ</td>\n",
       "      <td>6</td>\n",
       "      <td>0</td>\n",
       "    </tr>\n",
       "    <tr>\n",
       "      <th>66493</th>\n",
       "      <td>74189</td>\n",
       "      <td>あこや貝_阿古屋貝.yomi00013767_0114.mp3</td>\n",
       "      <td>中高</td>\n",
       "      <td>アコヤカ゚イ</td>\n",
       "      <td>6</td>\n",
       "      <td>3</td>\n",
       "    </tr>\n",
       "  </tbody>\n",
       "</table>\n",
       "<p>66494 rows × 6 columns</p>\n",
       "</div>"
      ],
      "text/plain": [
       "       Unnamed: 0                                 path pattern        kana  \\\n",
       "0               0             ある.yomi000142BB_0596.mp3      頭高          アル   \n",
       "1               2             思う.yomi0006C617_043A.mp3      中高         オモウ   \n",
       "2               3             など.yomi000240B7_0028.mp3      頭高          ナド   \n",
       "3               4              私.yomi00092F63_0072.mp3      平板        ワタくシ   \n",
       "4               5             見る.yomi000A41BD_001E.mp3      頭高          ミル   \n",
       "...           ...                                  ...     ...         ...   \n",
       "66489       74183      捨てがな_捨て仮名.yomi00072538_06BE.mp3      平板       すテカ゚ナ   \n",
       "66490       74185  くも膜下出血_蜘蛛膜下出血.yomi0001AAD1_0622.mp3      中高  クモマッカしュッケツ   \n",
       "66491       74187             捜す.yomi00072507_0088.mp3      平板        サカ゚ス   \n",
       "66492       74188            捜し物.yomi000724FD_0424.mp3      平板      サカ゚シモノ   \n",
       "66493       74189      あこや貝_阿古屋貝.yomi00013767_0114.mp3      中高      アコヤカ゚イ   \n",
       "\n",
       "       syl  drop  \n",
       "0        2     1  \n",
       "1        3     2  \n",
       "2        2     1  \n",
       "3        4     0  \n",
       "4        2     1  \n",
       "...    ...   ...  \n",
       "66489    5     0  \n",
       "66490   10     6  \n",
       "66491    4     0  \n",
       "66492    6     0  \n",
       "66493    6     3  \n",
       "\n",
       "[66494 rows x 6 columns]"
      ]
     },
     "execution_count": 9,
     "metadata": {},
     "output_type": "execute_result"
    }
   ],
   "source": [
    "data"
   ]
  },
  {
   "cell_type": "code",
   "execution_count": 239,
   "id": "0a2fdeb6-704a-4e3b-ae73-a4b9b71fe3ee",
   "metadata": {},
   "outputs": [],
   "source": [
    "cnfg = AudioConfig.Voice()"
   ]
  },
  {
   "cell_type": "code",
   "execution_count": 128,
   "id": "a190887e-e8b2-433c-99d9-2a05acb8123c",
   "metadata": {},
   "outputs": [],
   "source": [
    "at = AudioTensor.create(path/'捨てがな_捨て仮名.yomi00072538_06BE.mp3')"
   ]
  },
  {
   "cell_type": "code",
   "execution_count": 240,
   "id": "327e5da1-523e-4315-8e4a-fc70290fa9d3",
   "metadata": {},
   "outputs": [],
   "source": [
    "aud2spec = AudioToSpec.from_cfg(cnfg)"
   ]
  },
  {
   "cell_type": "code",
   "execution_count": 130,
   "id": "443192be-875f-4bae-a482-42ebb25c9d4b",
   "metadata": {},
   "outputs": [
    {
     "ename": "TypeError",
     "evalue": "__init__() got an unexpected keyword argument 'linthreshy'",
     "output_type": "error",
     "traceback": [
      "\u001b[0;31m---------------------------------------------------------------------------\u001b[0m",
      "\u001b[0;31mTypeError\u001b[0m                                 Traceback (most recent call last)",
      "\u001b[0;32m/tmp/ipykernel_71/2151244571.py\u001b[0m in \u001b[0;36m<module>\u001b[0;34m\u001b[0m\n\u001b[0;32m----> 1\u001b[0;31m \u001b[0maud2spec\u001b[0m\u001b[0;34m(\u001b[0m\u001b[0mat\u001b[0m\u001b[0;34m)\u001b[0m\u001b[0;34m.\u001b[0m\u001b[0mshow\u001b[0m\u001b[0;34m(\u001b[0m\u001b[0;34m)\u001b[0m\u001b[0;34m\u001b[0m\u001b[0;34m\u001b[0m\u001b[0m\n\u001b[0m",
      "\u001b[0;32m~/.conda/envs/default/lib/python3.9/site-packages/fastaudio/core/spectrogram.py\u001b[0m in \u001b[0;36mshow\u001b[0;34m(self, ctx, ax, title, **kwargs)\u001b[0m\n\u001b[1;32m     75\u001b[0m     \u001b[0;32mdef\u001b[0m \u001b[0mshow\u001b[0m\u001b[0;34m(\u001b[0m\u001b[0mself\u001b[0m\u001b[0;34m,\u001b[0m \u001b[0mctx\u001b[0m\u001b[0;34m=\u001b[0m\u001b[0;32mNone\u001b[0m\u001b[0;34m,\u001b[0m \u001b[0max\u001b[0m\u001b[0;34m=\u001b[0m\u001b[0;32mNone\u001b[0m\u001b[0;34m,\u001b[0m \u001b[0mtitle\u001b[0m\u001b[0;34m=\u001b[0m\u001b[0;34m\"\"\u001b[0m\u001b[0;34m,\u001b[0m \u001b[0;34m**\u001b[0m\u001b[0mkwargs\u001b[0m\u001b[0;34m)\u001b[0m\u001b[0;34m:\u001b[0m\u001b[0;34m\u001b[0m\u001b[0;34m\u001b[0m\u001b[0m\n\u001b[1;32m     76\u001b[0m         \u001b[0;34m\"Show spectrogram using librosa\"\u001b[0m\u001b[0;34m\u001b[0m\u001b[0;34m\u001b[0m\u001b[0m\n\u001b[0;32m---> 77\u001b[0;31m         \u001b[0;32mreturn\u001b[0m \u001b[0mshow_spectrogram\u001b[0m\u001b[0;34m(\u001b[0m\u001b[0mself\u001b[0m\u001b[0;34m,\u001b[0m \u001b[0mctx\u001b[0m\u001b[0;34m=\u001b[0m\u001b[0mctx\u001b[0m\u001b[0;34m,\u001b[0m \u001b[0max\u001b[0m\u001b[0;34m=\u001b[0m\u001b[0max\u001b[0m\u001b[0;34m,\u001b[0m \u001b[0mtitle\u001b[0m\u001b[0;34m=\u001b[0m\u001b[0mtitle\u001b[0m\u001b[0;34m,\u001b[0m \u001b[0;34m**\u001b[0m\u001b[0mkwargs\u001b[0m\u001b[0;34m)\u001b[0m\u001b[0;34m\u001b[0m\u001b[0;34m\u001b[0m\u001b[0m\n\u001b[0m\u001b[1;32m     78\u001b[0m \u001b[0;34m\u001b[0m\u001b[0m\n\u001b[1;32m     79\u001b[0m \u001b[0;34m\u001b[0m\u001b[0m\n",
      "\u001b[0;32m~/.conda/envs/default/lib/python3.9/site-packages/fastaudio/core/spectrogram.py\u001b[0m in \u001b[0;36mshow_spectrogram\u001b[0;34m(sg, title, ax, ctx, **kwargs)\u001b[0m\n\u001b[1;32m     86\u001b[0m         \u001b[0;31m# x_start, y_start, x_lenght, y_lenght, all in percent\u001b[0m\u001b[0;34m\u001b[0m\u001b[0;34m\u001b[0m\u001b[0m\n\u001b[1;32m     87\u001b[0m         \u001b[0mia\u001b[0m \u001b[0;34m=\u001b[0m \u001b[0max\u001b[0m\u001b[0;34m.\u001b[0m\u001b[0minset_axes\u001b[0m\u001b[0;34m(\u001b[0m\u001b[0;34m(\u001b[0m\u001b[0mi\u001b[0m \u001b[0;34m/\u001b[0m \u001b[0msg\u001b[0m\u001b[0;34m.\u001b[0m\u001b[0mnchannels\u001b[0m\u001b[0;34m,\u001b[0m \u001b[0;36m0.2\u001b[0m\u001b[0;34m,\u001b[0m \u001b[0;36m1\u001b[0m \u001b[0;34m/\u001b[0m \u001b[0msg\u001b[0m\u001b[0;34m.\u001b[0m\u001b[0mnchannels\u001b[0m\u001b[0;34m,\u001b[0m \u001b[0;36m0.7\u001b[0m\u001b[0;34m)\u001b[0m\u001b[0;34m)\u001b[0m\u001b[0;34m\u001b[0m\u001b[0;34m\u001b[0m\u001b[0m\n\u001b[0;32m---> 88\u001b[0;31m         z = specshow(\n\u001b[0m\u001b[1;32m     89\u001b[0m             \u001b[0mchannel\u001b[0m\u001b[0;34m.\u001b[0m\u001b[0mcpu\u001b[0m\u001b[0;34m(\u001b[0m\u001b[0;34m)\u001b[0m\u001b[0;34m.\u001b[0m\u001b[0mnumpy\u001b[0m\u001b[0;34m(\u001b[0m\u001b[0;34m)\u001b[0m\u001b[0;34m,\u001b[0m \u001b[0max\u001b[0m\u001b[0;34m=\u001b[0m\u001b[0mia\u001b[0m\u001b[0;34m,\u001b[0m \u001b[0;34m**\u001b[0m\u001b[0msg\u001b[0m\u001b[0;34m.\u001b[0m\u001b[0m_all_show_args\u001b[0m\u001b[0;34m(\u001b[0m\u001b[0mshow_y\u001b[0m\u001b[0;34m=\u001b[0m\u001b[0mi\u001b[0m \u001b[0;34m==\u001b[0m \u001b[0;36m0\u001b[0m\u001b[0;34m)\u001b[0m\u001b[0;34m,\u001b[0m \u001b[0;34m**\u001b[0m\u001b[0mkwargs\u001b[0m\u001b[0;34m\u001b[0m\u001b[0;34m\u001b[0m\u001b[0m\n\u001b[1;32m     90\u001b[0m         )\n",
      "\u001b[0;32m~/.conda/envs/default/lib/python3.9/site-packages/librosa/display.py\u001b[0m in \u001b[0;36mspecshow\u001b[0;34m(data, x_coords, y_coords, x_axis, y_axis, sr, hop_length, fmin, fmax, tuning, bins_per_octave, key, Sa, mela, thaat, ax, **kwargs)\u001b[0m\n\u001b[1;32m    854\u001b[0m     \u001b[0;31m# Set up axis scaling\u001b[0m\u001b[0;34m\u001b[0m\u001b[0;34m\u001b[0m\u001b[0m\n\u001b[1;32m    855\u001b[0m     \u001b[0m__scale_axes\u001b[0m\u001b[0;34m(\u001b[0m\u001b[0maxes\u001b[0m\u001b[0;34m,\u001b[0m \u001b[0mx_axis\u001b[0m\u001b[0;34m,\u001b[0m \u001b[0;34m\"x\"\u001b[0m\u001b[0;34m)\u001b[0m\u001b[0;34m\u001b[0m\u001b[0;34m\u001b[0m\u001b[0m\n\u001b[0;32m--> 856\u001b[0;31m     \u001b[0m__scale_axes\u001b[0m\u001b[0;34m(\u001b[0m\u001b[0maxes\u001b[0m\u001b[0;34m,\u001b[0m \u001b[0my_axis\u001b[0m\u001b[0;34m,\u001b[0m \u001b[0;34m\"y\"\u001b[0m\u001b[0;34m)\u001b[0m\u001b[0;34m\u001b[0m\u001b[0;34m\u001b[0m\u001b[0m\n\u001b[0m\u001b[1;32m    857\u001b[0m \u001b[0;34m\u001b[0m\u001b[0m\n\u001b[1;32m    858\u001b[0m     \u001b[0;31m# Construct tickers and locators\u001b[0m\u001b[0;34m\u001b[0m\u001b[0;34m\u001b[0m\u001b[0m\n",
      "\u001b[0;32m~/.conda/envs/default/lib/python3.9/site-packages/librosa/display.py\u001b[0m in \u001b[0;36m__scale_axes\u001b[0;34m(axes, ax_type, which)\u001b[0m\n\u001b[1;32m    972\u001b[0m         \u001b[0;32mreturn\u001b[0m\u001b[0;34m\u001b[0m\u001b[0;34m\u001b[0m\u001b[0m\n\u001b[1;32m    973\u001b[0m \u001b[0;34m\u001b[0m\u001b[0m\n\u001b[0;32m--> 974\u001b[0;31m     \u001b[0mscaler\u001b[0m\u001b[0;34m(\u001b[0m\u001b[0mmode\u001b[0m\u001b[0;34m,\u001b[0m \u001b[0;34m**\u001b[0m\u001b[0mkwargs\u001b[0m\u001b[0;34m)\u001b[0m\u001b[0;34m\u001b[0m\u001b[0;34m\u001b[0m\u001b[0m\n\u001b[0m\u001b[1;32m    975\u001b[0m \u001b[0;34m\u001b[0m\u001b[0m\n\u001b[1;32m    976\u001b[0m \u001b[0;34m\u001b[0m\u001b[0m\n",
      "\u001b[0;32m~/.conda/envs/default/lib/python3.9/site-packages/matplotlib/axes/_base.py\u001b[0m in \u001b[0;36mset_yscale\u001b[0;34m(self, value, **kwargs)\u001b[0m\n\u001b[1;32m   4098\u001b[0m         \u001b[0mg\u001b[0m \u001b[0;34m=\u001b[0m \u001b[0mself\u001b[0m\u001b[0;34m.\u001b[0m\u001b[0mget_shared_y_axes\u001b[0m\u001b[0;34m(\u001b[0m\u001b[0;34m)\u001b[0m\u001b[0;34m\u001b[0m\u001b[0;34m\u001b[0m\u001b[0m\n\u001b[1;32m   4099\u001b[0m         \u001b[0;32mfor\u001b[0m \u001b[0max\u001b[0m \u001b[0;32min\u001b[0m \u001b[0mg\u001b[0m\u001b[0;34m.\u001b[0m\u001b[0mget_siblings\u001b[0m\u001b[0;34m(\u001b[0m\u001b[0mself\u001b[0m\u001b[0;34m)\u001b[0m\u001b[0;34m:\u001b[0m\u001b[0;34m\u001b[0m\u001b[0;34m\u001b[0m\u001b[0m\n\u001b[0;32m-> 4100\u001b[0;31m             \u001b[0max\u001b[0m\u001b[0;34m.\u001b[0m\u001b[0myaxis\u001b[0m\u001b[0;34m.\u001b[0m\u001b[0m_set_scale\u001b[0m\u001b[0;34m(\u001b[0m\u001b[0mvalue\u001b[0m\u001b[0;34m,\u001b[0m \u001b[0;34m**\u001b[0m\u001b[0mkwargs\u001b[0m\u001b[0;34m)\u001b[0m\u001b[0;34m\u001b[0m\u001b[0;34m\u001b[0m\u001b[0m\n\u001b[0m\u001b[1;32m   4101\u001b[0m             \u001b[0max\u001b[0m\u001b[0;34m.\u001b[0m\u001b[0m_update_transScale\u001b[0m\u001b[0;34m(\u001b[0m\u001b[0;34m)\u001b[0m\u001b[0;34m\u001b[0m\u001b[0;34m\u001b[0m\u001b[0m\n\u001b[1;32m   4102\u001b[0m             \u001b[0max\u001b[0m\u001b[0;34m.\u001b[0m\u001b[0mstale\u001b[0m \u001b[0;34m=\u001b[0m \u001b[0;32mTrue\u001b[0m\u001b[0;34m\u001b[0m\u001b[0;34m\u001b[0m\u001b[0m\n",
      "\u001b[0;32m~/.conda/envs/default/lib/python3.9/site-packages/matplotlib/axis.py\u001b[0m in \u001b[0;36m_set_scale\u001b[0;34m(self, value, **kwargs)\u001b[0m\n\u001b[1;32m    759\u001b[0m     \u001b[0;32mdef\u001b[0m \u001b[0m_set_scale\u001b[0m\u001b[0;34m(\u001b[0m\u001b[0mself\u001b[0m\u001b[0;34m,\u001b[0m \u001b[0mvalue\u001b[0m\u001b[0;34m,\u001b[0m \u001b[0;34m**\u001b[0m\u001b[0mkwargs\u001b[0m\u001b[0;34m)\u001b[0m\u001b[0;34m:\u001b[0m\u001b[0;34m\u001b[0m\u001b[0;34m\u001b[0m\u001b[0m\n\u001b[1;32m    760\u001b[0m         \u001b[0;32mif\u001b[0m \u001b[0;32mnot\u001b[0m \u001b[0misinstance\u001b[0m\u001b[0;34m(\u001b[0m\u001b[0mvalue\u001b[0m\u001b[0;34m,\u001b[0m \u001b[0mmscale\u001b[0m\u001b[0;34m.\u001b[0m\u001b[0mScaleBase\u001b[0m\u001b[0;34m)\u001b[0m\u001b[0;34m:\u001b[0m\u001b[0;34m\u001b[0m\u001b[0;34m\u001b[0m\u001b[0m\n\u001b[0;32m--> 761\u001b[0;31m             \u001b[0mself\u001b[0m\u001b[0;34m.\u001b[0m\u001b[0m_scale\u001b[0m \u001b[0;34m=\u001b[0m \u001b[0mmscale\u001b[0m\u001b[0;34m.\u001b[0m\u001b[0mscale_factory\u001b[0m\u001b[0;34m(\u001b[0m\u001b[0mvalue\u001b[0m\u001b[0;34m,\u001b[0m \u001b[0mself\u001b[0m\u001b[0;34m,\u001b[0m \u001b[0;34m**\u001b[0m\u001b[0mkwargs\u001b[0m\u001b[0;34m)\u001b[0m\u001b[0;34m\u001b[0m\u001b[0;34m\u001b[0m\u001b[0m\n\u001b[0m\u001b[1;32m    762\u001b[0m         \u001b[0;32melse\u001b[0m\u001b[0;34m:\u001b[0m\u001b[0;34m\u001b[0m\u001b[0;34m\u001b[0m\u001b[0m\n\u001b[1;32m    763\u001b[0m             \u001b[0mself\u001b[0m\u001b[0;34m.\u001b[0m\u001b[0m_scale\u001b[0m \u001b[0;34m=\u001b[0m \u001b[0mvalue\u001b[0m\u001b[0;34m\u001b[0m\u001b[0;34m\u001b[0m\u001b[0m\n",
      "\u001b[0;32m~/.conda/envs/default/lib/python3.9/site-packages/matplotlib/scale.py\u001b[0m in \u001b[0;36mscale_factory\u001b[0;34m(scale, axis, **kwargs)\u001b[0m\n\u001b[1;32m    595\u001b[0m         \u001b[0mscale\u001b[0m \u001b[0;34m=\u001b[0m \u001b[0mscale\u001b[0m\u001b[0;34m.\u001b[0m\u001b[0mlower\u001b[0m\u001b[0;34m(\u001b[0m\u001b[0;34m)\u001b[0m\u001b[0;34m\u001b[0m\u001b[0;34m\u001b[0m\u001b[0m\n\u001b[1;32m    596\u001b[0m     \u001b[0mscale_cls\u001b[0m \u001b[0;34m=\u001b[0m \u001b[0m_api\u001b[0m\u001b[0;34m.\u001b[0m\u001b[0mcheck_getitem\u001b[0m\u001b[0;34m(\u001b[0m\u001b[0m_scale_mapping\u001b[0m\u001b[0;34m,\u001b[0m \u001b[0mscale\u001b[0m\u001b[0;34m=\u001b[0m\u001b[0mscale\u001b[0m\u001b[0;34m)\u001b[0m\u001b[0;34m\u001b[0m\u001b[0;34m\u001b[0m\u001b[0m\n\u001b[0;32m--> 597\u001b[0;31m     \u001b[0;32mreturn\u001b[0m \u001b[0mscale_cls\u001b[0m\u001b[0;34m(\u001b[0m\u001b[0maxis\u001b[0m\u001b[0;34m,\u001b[0m \u001b[0;34m**\u001b[0m\u001b[0mkwargs\u001b[0m\u001b[0;34m)\u001b[0m\u001b[0;34m\u001b[0m\u001b[0;34m\u001b[0m\u001b[0m\n\u001b[0m\u001b[1;32m    598\u001b[0m \u001b[0;34m\u001b[0m\u001b[0m\n\u001b[1;32m    599\u001b[0m \u001b[0;34m\u001b[0m\u001b[0m\n",
      "\u001b[0;31mTypeError\u001b[0m: __init__() got an unexpected keyword argument 'linthreshy'"
     ]
    },
    {
     "data": {
      "image/png": "[encoded data removed]",
      "text/plain": [
       "<Figure size 432x288 with 1 Axes>"
      ]
     },
     "metadata": {
      "needs_background": "light"
     },
     "output_type": "display_data"
    }
   ],
   "source": [
    "aud2spec(at).show()"
   ]
  },
  {
   "cell_type": "code",
   "execution_count": null,
   "id": "6255241d-06dc-460e-85c9-780a64e17053",
   "metadata": {},
   "outputs": [],
   "source": [
    "at.show()"
   ]
  },
  {
   "cell_type": "code",
   "execution_count": 13,
   "id": "152de91c-7186-49a1-9d54-33420726ccf8",
   "metadata": {},
   "outputs": [],
   "source": [
    "crop2s = ResizeSignal(2000)"
   ]
  },
  {
   "cell_type": "code",
   "execution_count": 14,
   "id": "751e49b8-7a28-49a3-a8ea-d8419c21b9a3",
   "metadata": {},
   "outputs": [],
   "source": [
    "data = data.iloc[:,1:].set_index('path')"
   ]
  },
  {
   "cell_type": "code",
   "execution_count": 15,
   "id": "3df51521-b8f1-498d-a801-22b1927601ba",
   "metadata": {},
   "outputs": [
    {
     "data": {
      "text/html": [
       "<div>\n",
       "<style scoped>\n",
       "    .dataframe tbody tr th:only-of-type {\n",
       "        vertical-align: middle;\n",
       "    }\n",
       "\n",
       "    .dataframe tbody tr th {\n",
       "        vertical-align: top;\n",
       "    }\n",
       "\n",
       "    .dataframe thead th {\n",
       "        text-align: right;\n",
       "    }\n",
       "</style>\n",
       "<table border=\"1\" class=\"dataframe\">\n",
       "  <thead>\n",
       "    <tr style=\"text-align: right;\">\n",
       "      <th></th>\n",
       "      <th>pattern</th>\n",
       "      <th>kana</th>\n",
       "      <th>syl</th>\n",
       "      <th>drop</th>\n",
       "    </tr>\n",
       "    <tr>\n",
       "      <th>path</th>\n",
       "      <th></th>\n",
       "      <th></th>\n",
       "      <th></th>\n",
       "      <th></th>\n",
       "    </tr>\n",
       "  </thead>\n",
       "  <tbody>\n",
       "    <tr>\n",
       "      <th>ある.yomi000142BB_0596.mp3</th>\n",
       "      <td>頭高</td>\n",
       "      <td>アル</td>\n",
       "      <td>2</td>\n",
       "      <td>1</td>\n",
       "    </tr>\n",
       "    <tr>\n",
       "      <th>思う.yomi0006C617_043A.mp3</th>\n",
       "      <td>中高</td>\n",
       "      <td>オモウ</td>\n",
       "      <td>3</td>\n",
       "      <td>2</td>\n",
       "    </tr>\n",
       "    <tr>\n",
       "      <th>など.yomi000240B7_0028.mp3</th>\n",
       "      <td>頭高</td>\n",
       "      <td>ナド</td>\n",
       "      <td>2</td>\n",
       "      <td>1</td>\n",
       "    </tr>\n",
       "    <tr>\n",
       "      <th>私.yomi00092F63_0072.mp3</th>\n",
       "      <td>平板</td>\n",
       "      <td>ワタくシ</td>\n",
       "      <td>4</td>\n",
       "      <td>0</td>\n",
       "    </tr>\n",
       "    <tr>\n",
       "      <th>見る.yomi000A41BD_001E.mp3</th>\n",
       "      <td>頭高</td>\n",
       "      <td>ミル</td>\n",
       "      <td>2</td>\n",
       "      <td>1</td>\n",
       "    </tr>\n",
       "    <tr>\n",
       "      <th>...</th>\n",
       "      <td>...</td>\n",
       "      <td>...</td>\n",
       "      <td>...</td>\n",
       "      <td>...</td>\n",
       "    </tr>\n",
       "    <tr>\n",
       "      <th>捨てがな_捨て仮名.yomi00072538_06BE.mp3</th>\n",
       "      <td>平板</td>\n",
       "      <td>すテカ゚ナ</td>\n",
       "      <td>5</td>\n",
       "      <td>0</td>\n",
       "    </tr>\n",
       "    <tr>\n",
       "      <th>くも膜下出血_蜘蛛膜下出血.yomi0001AAD1_0622.mp3</th>\n",
       "      <td>中高</td>\n",
       "      <td>クモマッカしュッケツ</td>\n",
       "      <td>10</td>\n",
       "      <td>6</td>\n",
       "    </tr>\n",
       "    <tr>\n",
       "      <th>捜す.yomi00072507_0088.mp3</th>\n",
       "      <td>平板</td>\n",
       "      <td>サカ゚ス</td>\n",
       "      <td>4</td>\n",
       "      <td>0</td>\n",
       "    </tr>\n",
       "    <tr>\n",
       "      <th>捜し物.yomi000724FD_0424.mp3</th>\n",
       "      <td>平板</td>\n",
       "      <td>サカ゚シモノ</td>\n",
       "      <td>6</td>\n",
       "      <td>0</td>\n",
       "    </tr>\n",
       "    <tr>\n",
       "      <th>あこや貝_阿古屋貝.yomi00013767_0114.mp3</th>\n",
       "      <td>中高</td>\n",
       "      <td>アコヤカ゚イ</td>\n",
       "      <td>6</td>\n",
       "      <td>3</td>\n",
       "    </tr>\n",
       "  </tbody>\n",
       "</table>\n",
       "<p>66494 rows × 4 columns</p>\n",
       "</div>"
      ],
      "text/plain": [
       "                                    pattern        kana  syl  drop\n",
       "path                                                              \n",
       "ある.yomi000142BB_0596.mp3                 頭高          アル    2     1\n",
       "思う.yomi0006C617_043A.mp3                 中高         オモウ    3     2\n",
       "など.yomi000240B7_0028.mp3                 頭高          ナド    2     1\n",
       "私.yomi00092F63_0072.mp3                  平板        ワタくシ    4     0\n",
       "見る.yomi000A41BD_001E.mp3                 頭高          ミル    2     1\n",
       "...                                     ...         ...  ...   ...\n",
       "捨てがな_捨て仮名.yomi00072538_06BE.mp3          平板       すテカ゚ナ    5     0\n",
       "くも膜下出血_蜘蛛膜下出血.yomi0001AAD1_0622.mp3      中高  クモマッカしュッケツ   10     6\n",
       "捜す.yomi00072507_0088.mp3                 平板        サカ゚ス    4     0\n",
       "捜し物.yomi000724FD_0424.mp3                平板      サカ゚シモノ    6     0\n",
       "あこや貝_阿古屋貝.yomi00013767_0114.mp3          中高      アコヤカ゚イ    6     3\n",
       "\n",
       "[66494 rows x 4 columns]"
      ]
     },
     "execution_count": 15,
     "metadata": {},
     "output_type": "execute_result"
    }
   ],
   "source": [
    "data"
   ]
  },
  {
   "cell_type": "code",
   "execution_count": 16,
   "id": "3ba04f61-d8fc-429b-aae6-26e5797a3e8b",
   "metadata": {},
   "outputs": [
    {
     "data": {
      "text/plain": [
       "'頭高'"
      ]
     },
     "execution_count": 16,
     "metadata": {},
     "output_type": "execute_result"
    }
   ],
   "source": [
    "data.loc['ある.yomi000142BB_0596.mp3'][0]"
   ]
  },
  {
   "cell_type": "code",
   "execution_count": null,
   "id": "91c67973-99c9-4236-8ece-da57be612c99",
   "metadata": {},
   "outputs": [],
   "source": []
  },
  {
   "cell_type": "code",
   "execution_count": 17,
   "id": "92700bde-707c-4ebe-8f78-618a4f93f376",
   "metadata": {},
   "outputs": [],
   "source": [
    "def get_label(fname):\n",
    "    return data.loc[fname][0]"
   ]
  },
  {
   "cell_type": "code",
   "execution_count": 18,
   "id": "72979ad4-1fcb-47fc-a14c-4c079a2c6f99",
   "metadata": {},
   "outputs": [],
   "source": [
    "dblock = DataBlock(blocks=[AudioBlock, CategoryBlock],\n",
    "                  get_items=get_audio_files,\n",
    "                   item_tfms=[crop2s, aud2spec],\n",
    "                   get_y=using_attr(get_label, 'name'),\n",
    "                   splitter=RandomSubsetSplitter(0.1, 0.02)\n",
    "                  )"
   ]
  },
  {
   "cell_type": "code",
   "execution_count": 19,
   "id": "98373a8a-6f05-4594-b93d-a6f029f70096",
   "metadata": {},
   "outputs": [],
   "source": [
    "dls = dblock.dataloaders(path, bs=32, shuffle=True)"
   ]
  },
  {
   "cell_type": "code",
   "execution_count": null,
   "id": "5617b282-fb04-4c9b-87d5-3460b99e6f3f",
   "metadata": {},
   "outputs": [],
   "source": [
    "len(dls.get_idxs())"
   ]
  },
  {
   "cell_type": "code",
   "execution_count": null,
   "id": "685d6fd3-7375-4e01-b90b-c85dcf66bb9b",
   "metadata": {},
   "outputs": [],
   "source": [
    "dls.one_batch()[0].shape"
   ]
  },
  {
   "cell_type": "code",
   "execution_count": 62,
   "id": "a2f8d5b6-b4d5-439d-8192-2127d14d064b",
   "metadata": {},
   "outputs": [],
   "source": [
    "learn = Learner(dls, xresnet50(pretrained=True), metrics=[accuracy, F1Score(average='weighted')])"
   ]
  },
  {
   "cell_type": "code",
   "execution_count": 60,
   "id": "eecdfd60-7109-43e8-a835-f1d97d40d09c",
   "metadata": {},
   "outputs": [
    {
     "data": {
      "text/plain": [
       "FlattenedLoss of CrossEntropyLoss()"
      ]
     },
     "execution_count": 60,
     "metadata": {},
     "output_type": "execute_result"
    }
   ],
   "source": [
    "learn.loss_func"
   ]
  },
  {
   "cell_type": "code",
   "execution_count": 63,
   "id": "5c014f8f-2c19-4373-8b57-950cf3658484",
   "metadata": {},
   "outputs": [],
   "source": [
    "learn = learn.to_fp16()"
   ]
  },
  {
   "cell_type": "code",
   "execution_count": 56,
   "id": "7422949d-8a97-4ced-b609-28f6bc1fe16e",
   "metadata": {},
   "outputs": [],
   "source": [
    "learn.model[0][0].in_channels\n",
    "def alter_learner(learn):\n",
    "    layer = learn.model[0][0]\n",
    "    layer.in_channels = 1\n",
    "    layer.weight = nn.Parameter(layer.weight[:,1,:,:].unsqueeze(1))\n",
    "    learn.model[0][0] = layer"
   ]
  },
  {
   "cell_type": "code",
   "execution_count": 64,
   "id": "62d3f41a-88a4-4d0c-8769-a3224af59ce6",
   "metadata": {},
   "outputs": [],
   "source": [
    "alter_learner(learn)"
   ]
  },
  {
   "cell_type": "code",
   "execution_count": 65,
   "id": "acced00d-6f0a-4539-99bf-5a903c343cb1",
   "metadata": {},
   "outputs": [
    {
     "data": {
      "text/html": [
       "<table border=\"1\" class=\"dataframe\">\n",
       "  <thead>\n",
       "    <tr style=\"text-align: left;\">\n",
       "      <th>epoch</th>\n",
       "      <th>train_loss</th>\n",
       "      <th>valid_loss</th>\n",
       "      <th>accuracy</th>\n",
       "      <th>f1_score</th>\n",
       "      <th>time</th>\n",
       "    </tr>\n",
       "  </thead>\n",
       "  <tbody>\n",
       "    <tr>\n",
       "      <td>0</td>\n",
       "      <td>0.424598</td>\n",
       "      <td>4.219926</td>\n",
       "      <td>0.439428</td>\n",
       "      <td>0.277089</td>\n",
       "      <td>00:34</td>\n",
       "    </tr>\n",
       "  </tbody>\n",
       "</table>"
      ],
      "text/plain": [
       "<IPython.core.display.HTML object>"
      ]
     },
     "metadata": {},
     "output_type": "display_data"
    },
    {
     "data": {
      "text/html": [
       "<table border=\"1\" class=\"dataframe\">\n",
       "  <thead>\n",
       "    <tr style=\"text-align: left;\">\n",
       "      <th>epoch</th>\n",
       "      <th>train_loss</th>\n",
       "      <th>valid_loss</th>\n",
       "      <th>accuracy</th>\n",
       "      <th>f1_score</th>\n",
       "      <th>time</th>\n",
       "    </tr>\n",
       "  </thead>\n",
       "  <tbody>\n",
       "    <tr>\n",
       "      <td>0</td>\n",
       "      <td>0.205065</td>\n",
       "      <td>0.845803</td>\n",
       "      <td>0.760722</td>\n",
       "      <td>0.740047</td>\n",
       "      <td>00:33</td>\n",
       "    </tr>\n",
       "    <tr>\n",
       "      <td>1</td>\n",
       "      <td>0.203014</td>\n",
       "      <td>0.758320</td>\n",
       "      <td>0.784048</td>\n",
       "      <td>0.767731</td>\n",
       "      <td>00:33</td>\n",
       "    </tr>\n",
       "    <tr>\n",
       "      <td>2</td>\n",
       "      <td>0.143726</td>\n",
       "      <td>0.127169</td>\n",
       "      <td>0.960873</td>\n",
       "      <td>0.956737</td>\n",
       "      <td>00:33</td>\n",
       "    </tr>\n",
       "    <tr>\n",
       "      <td>3</td>\n",
       "      <td>0.111206</td>\n",
       "      <td>0.120738</td>\n",
       "      <td>0.963130</td>\n",
       "      <td>0.956488</td>\n",
       "      <td>00:34</td>\n",
       "    </tr>\n",
       "    <tr>\n",
       "      <td>4</td>\n",
       "      <td>0.076544</td>\n",
       "      <td>0.093413</td>\n",
       "      <td>0.968397</td>\n",
       "      <td>0.964488</td>\n",
       "      <td>00:34</td>\n",
       "    </tr>\n",
       "  </tbody>\n",
       "</table>"
      ],
      "text/plain": [
       "<IPython.core.display.HTML object>"
      ]
     },
     "metadata": {},
     "output_type": "display_data"
    }
   ],
   "source": [
    "learn.fine_tune(5, 3e-3)"
   ]
  },
  {
   "cell_type": "code",
   "execution_count": 66,
   "id": "0a4a33cc-58a0-4d4f-861e-062fa5b60bb8",
   "metadata": {},
   "outputs": [
    {
     "data": {
      "text/html": [],
      "text/plain": [
       "<IPython.core.display.HTML object>"
      ]
     },
     "metadata": {},
     "output_type": "display_data"
    },
    {
     "data": {
      "text/plain": [
       "SuggestedLRs(lr_min=6.309573450380412e-08, lr_steep=9.12010818865383e-07)"
      ]
     },
     "execution_count": 66,
     "metadata": {},
     "output_type": "execute_result"
    },
    {
     "data": {
      "image/png": "[encoded data removed]",
      "text/plain": [
       "<Figure size 432x288 with 1 Axes>"
      ]
     },
     "metadata": {
      "needs_background": "light"
     },
     "output_type": "display_data"
    }
   ],
   "source": [
    "learn.lr_find()"
   ]
  },
  {
   "cell_type": "code",
   "execution_count": 68,
   "id": "c69005a4-1504-4512-b1f2-2f8d51be91b2",
   "metadata": {},
   "outputs": [
    {
     "data": {
      "text/html": [
       "<table border=\"1\" class=\"dataframe\">\n",
       "  <thead>\n",
       "    <tr style=\"text-align: left;\">\n",
       "      <th>epoch</th>\n",
       "      <th>train_loss</th>\n",
       "      <th>valid_loss</th>\n",
       "      <th>accuracy</th>\n",
       "      <th>f1_score</th>\n",
       "      <th>time</th>\n",
       "    </tr>\n",
       "  </thead>\n",
       "  <tbody>\n",
       "    <tr>\n",
       "      <td>0</td>\n",
       "      <td>0.078476</td>\n",
       "      <td>0.092806</td>\n",
       "      <td>0.966892</td>\n",
       "      <td>0.962685</td>\n",
       "      <td>00:33</td>\n",
       "    </tr>\n",
       "    <tr>\n",
       "      <td>1</td>\n",
       "      <td>0.080976</td>\n",
       "      <td>0.093654</td>\n",
       "      <td>0.967645</td>\n",
       "      <td>0.963156</td>\n",
       "      <td>00:33</td>\n",
       "    </tr>\n",
       "    <tr>\n",
       "      <td>2</td>\n",
       "      <td>0.083820</td>\n",
       "      <td>0.091037</td>\n",
       "      <td>0.968397</td>\n",
       "      <td>0.964490</td>\n",
       "      <td>00:33</td>\n",
       "    </tr>\n",
       "  </tbody>\n",
       "</table>"
      ],
      "text/plain": [
       "<IPython.core.display.HTML object>"
      ]
     },
     "metadata": {},
     "output_type": "display_data"
    }
   ],
   "source": [
    "learn.fit(3, slice(3e-7, 3e-6), wd=0.05)"
   ]
  },
  {
   "cell_type": "markdown",
   "id": "8eb7376f-c7e2-4554-a1a0-4e801b053548",
   "metadata": {},
   "source": [
    "## Balanced Dataset"
   ]
  },
  {
   "cell_type": "code",
   "execution_count": 91,
   "id": "10a74fcb-6878-4e8e-808c-d4b8310976f8",
   "metadata": {},
   "outputs": [],
   "source": [
    "import random\n",
    "random.seed(42)\n",
    "nakadaka = random.sample(data[data.pattern == '中高'].index.values.tolist(), 2400)\n",
    "atamadaka = random.sample(data[data.pattern == '頭高'].index.values.tolist(), 2400)\n",
    "heiban = random.sample(data[data.pattern == '平板'].index.values.tolist(), 2400)"
   ]
  },
  {
   "cell_type": "code",
   "execution_count": 92,
   "id": "95b66bcc-6515-43b2-b076-499b4a2ef313",
   "metadata": {},
   "outputs": [],
   "source": [
    "ds = [(i, 'nakadaka') for i in nakadaka] + [(i, 'atamadaka') for i in atamadaka] + [(i, 'heiban') for i in heiban]\n",
    "df = pd.DataFrame(ds)"
   ]
  },
  {
   "cell_type": "code",
   "execution_count": 93,
   "id": "513cdec6-ec15-4416-8519-aaf9fbe3e357",
   "metadata": {},
   "outputs": [],
   "source": [
    "df[0] = path / df[0]"
   ]
  },
  {
   "cell_type": "code",
   "execution_count": 94,
   "id": "071033db-1e47-4ac5-b3af-1cfae42c70b6",
   "metadata": {},
   "outputs": [],
   "source": [
    "def get_x(df):\n",
    "  return df[0]\n",
    "def get_y(df):\n",
    "  return df[1]"
   ]
  },
  {
   "cell_type": "code",
   "execution_count": 95,
   "id": "27296b0b-892d-4372-a734-a35308b61a79",
   "metadata": {},
   "outputs": [],
   "source": [
    "dblock = DataBlock(blocks=[AudioBlock, CategoryBlock],\n",
    "                  get_x=get_x,\n",
    "                   item_tfms=[crop2s, aud2spec],\n",
    "                   get_y=get_y,\n",
    "                   splitter=RandomSplitter(valid_pct=0.2)\n",
    "                  )"
   ]
  },
  {
   "cell_type": "code",
   "execution_count": 96,
   "id": "47ad91b6-26d8-4dc2-af29-a06ff3509420",
   "metadata": {},
   "outputs": [],
   "source": [
    "dls2 = dblock.dataloaders(df)"
   ]
  },
  {
   "cell_type": "code",
   "execution_count": 113,
   "id": "ba1d1789-67a7-449d-b344-a8081112d65e",
   "metadata": {},
   "outputs": [],
   "source": [
    "learn2 = Learner(dls2, xresnet50(pretrained=True), CrossEntropyLossFlat(),\n",
    "                 metrics=[accuracy, F1Score(average='weighted')], wd=0.05).to_fp16()"
   ]
  },
  {
   "cell_type": "code",
   "execution_count": 114,
   "id": "297cba2b-98cd-4f43-afd9-e7370f96097f",
   "metadata": {},
   "outputs": [],
   "source": [
    "alter_learner(learn2)"
   ]
  },
  {
   "cell_type": "code",
   "execution_count": 115,
   "id": "a40652c2-89a5-4325-8b38-176d1f04c5d0",
   "metadata": {},
   "outputs": [
    {
     "data": {
      "text/html": [],
      "text/plain": [
       "<IPython.core.display.HTML object>"
      ]
     },
     "metadata": {},
     "output_type": "display_data"
    },
    {
     "data": {
      "text/plain": [
       "SuggestedLRs(lr_min=0.07585775852203369, lr_steep=0.015848932787775993)"
      ]
     },
     "execution_count": 115,
     "metadata": {},
     "output_type": "execute_result"
    },
    {
     "data": {
      "image/png": "[encoded data removed]",
      "text/plain": [
       "<Figure size 432x288 with 1 Axes>"
      ]
     },
     "metadata": {
      "needs_background": "light"
     },
     "output_type": "display_data"
    }
   ],
   "source": [
    "learn2.lr_find()"
   ]
  },
  {
   "cell_type": "code",
   "execution_count": 116,
   "id": "8358798f-28c4-433d-a218-350c200e1427",
   "metadata": {},
   "outputs": [
    {
     "data": {
      "text/html": [
       "<table border=\"1\" class=\"dataframe\">\n",
       "  <thead>\n",
       "    <tr style=\"text-align: left;\">\n",
       "      <th>epoch</th>\n",
       "      <th>train_loss</th>\n",
       "      <th>valid_loss</th>\n",
       "      <th>accuracy</th>\n",
       "      <th>f1_score</th>\n",
       "      <th>time</th>\n",
       "    </tr>\n",
       "  </thead>\n",
       "  <tbody>\n",
       "    <tr>\n",
       "      <td>0</td>\n",
       "      <td>1.734659</td>\n",
       "      <td>0.703426</td>\n",
       "      <td>0.713889</td>\n",
       "      <td>0.700657</td>\n",
       "      <td>00:26</td>\n",
       "    </tr>\n",
       "  </tbody>\n",
       "</table>"
      ],
      "text/plain": [
       "<IPython.core.display.HTML object>"
      ]
     },
     "metadata": {},
     "output_type": "display_data"
    },
    {
     "data": {
      "text/html": [
       "<table border=\"1\" class=\"dataframe\">\n",
       "  <thead>\n",
       "    <tr style=\"text-align: left;\">\n",
       "      <th>epoch</th>\n",
       "      <th>train_loss</th>\n",
       "      <th>valid_loss</th>\n",
       "      <th>accuracy</th>\n",
       "      <th>f1_score</th>\n",
       "      <th>time</th>\n",
       "    </tr>\n",
       "  </thead>\n",
       "  <tbody>\n",
       "    <tr>\n",
       "      <td>0</td>\n",
       "      <td>0.363018</td>\n",
       "      <td>0.286336</td>\n",
       "      <td>0.909028</td>\n",
       "      <td>0.908712</td>\n",
       "      <td>00:26</td>\n",
       "    </tr>\n",
       "    <tr>\n",
       "      <td>1</td>\n",
       "      <td>0.229606</td>\n",
       "      <td>0.172058</td>\n",
       "      <td>0.947917</td>\n",
       "      <td>0.948306</td>\n",
       "      <td>00:26</td>\n",
       "    </tr>\n",
       "    <tr>\n",
       "      <td>2</td>\n",
       "      <td>0.133098</td>\n",
       "      <td>0.254065</td>\n",
       "      <td>0.905556</td>\n",
       "      <td>0.902066</td>\n",
       "      <td>00:26</td>\n",
       "    </tr>\n",
       "    <tr>\n",
       "      <td>3</td>\n",
       "      <td>0.088526</td>\n",
       "      <td>0.105291</td>\n",
       "      <td>0.961111</td>\n",
       "      <td>0.961012</td>\n",
       "      <td>00:26</td>\n",
       "    </tr>\n",
       "    <tr>\n",
       "      <td>4</td>\n",
       "      <td>0.060891</td>\n",
       "      <td>0.073923</td>\n",
       "      <td>0.967361</td>\n",
       "      <td>0.967326</td>\n",
       "      <td>00:27</td>\n",
       "    </tr>\n",
       "    <tr>\n",
       "      <td>5</td>\n",
       "      <td>0.043505</td>\n",
       "      <td>0.065347</td>\n",
       "      <td>0.975694</td>\n",
       "      <td>0.975679</td>\n",
       "      <td>00:27</td>\n",
       "    </tr>\n",
       "    <tr>\n",
       "      <td>6</td>\n",
       "      <td>0.033957</td>\n",
       "      <td>0.058501</td>\n",
       "      <td>0.975694</td>\n",
       "      <td>0.975704</td>\n",
       "      <td>00:27</td>\n",
       "    </tr>\n",
       "  </tbody>\n",
       "</table>"
      ],
      "text/plain": [
       "<IPython.core.display.HTML object>"
      ]
     },
     "metadata": {},
     "output_type": "display_data"
    }
   ],
   "source": [
    "learn2.fine_tune(7, 9e-3)"
   ]
  },
  {
   "cell_type": "code",
   "execution_count": 119,
   "id": "4b77905b-7ac3-4b8a-81b3-40e870bb4177",
   "metadata": {},
   "outputs": [
    {
     "data": {
      "image/png": "[encoded data removed]",
      "text/plain": [
       "<Figure size 432x288 with 1 Axes>"
      ]
     },
     "metadata": {
      "needs_background": "light"
     },
     "output_type": "display_data"
    }
   ],
   "source": [
    "learn2.recorder.plot_loss()"
   ]
  },
  {
   "cell_type": "markdown",
   "id": "2c1833c0-3951-43f8-9066-0bc3686e333b",
   "metadata": {},
   "source": [
    "## Data Augmentation"
   ]
  },
  {
   "cell_type": "code",
   "execution_count": 150,
   "id": "36a3360b-b80e-4310-82fd-6923655a7614",
   "metadata": {},
   "outputs": [],
   "source": [
    "from fastaudio.augment.all import *"
   ]
  },
  {
   "cell_type": "code",
   "execution_count": 120,
   "id": "15ca413c-2f28-4b58-b873-868bf7e6ad69",
   "metadata": {},
   "outputs": [],
   "source": [
    "DBMelSpec = SpectrogramTransformer()"
   ]
  },
  {
   "cell_type": "code",
   "execution_count": 241,
   "id": "206d0e16-2484-4020-a4de-305eb3ca4f08",
   "metadata": {},
   "outputs": [
    {
     "data": {
      "text/plain": [
       "{'mel': 'True',\n",
       " 'to_db': 'False',\n",
       " 'sample_rate': 16000,\n",
       " 'n_fft': 1024,\n",
       " 'win_length': 1024,\n",
       " 'hop_length': 128,\n",
       " 'f_min': 50.0,\n",
       " 'f_max': 8000.0,\n",
       " 'pad': 0,\n",
       " 'n_mels': 128,\n",
       " 'window_fn': <function _VariableFunctionsClass.hann_window>,\n",
       " 'power': 2.0,\n",
       " 'normalized': False,\n",
       " 'wkwargs': None,\n",
       " 'center': True,\n",
       " 'pad_mode': 'reflect',\n",
       " 'onesided': True,\n",
       " 'norm': None,\n",
       " 'stype': 'power',\n",
       " 'top_db': None}"
      ]
     },
     "execution_count": 241,
     "metadata": {},
     "output_type": "execute_result"
    }
   ],
   "source": [
    "aud2spec.settings"
   ]
  },
  {
   "cell_type": "code",
   "execution_count": 230,
   "id": "78303cb8-e5f3-41c0-be49-2314e700b50b",
   "metadata": {},
   "outputs": [],
   "source": [
    "# aud2spec = DBMelSpec(top_db=100,f_max=2000)"
   ]
  },
  {
   "cell_type": "code",
   "execution_count": 151,
   "id": "037095a9-08a0-4b98-b231-2187d16f5751",
   "metadata": {},
   "outputs": [
    {
     "ename": "TypeError",
     "evalue": "__init__() got an unexpected keyword argument 'linthreshy'",
     "output_type": "error",
     "traceback": [
      "\u001b[0;31m---------------------------------------------------------------------------\u001b[0m",
      "\u001b[0;31mTypeError\u001b[0m                                 Traceback (most recent call last)",
      "\u001b[0;32m/tmp/ipykernel_71/2151244571.py\u001b[0m in \u001b[0;36m<module>\u001b[0;34m\u001b[0m\n\u001b[0;32m----> 1\u001b[0;31m \u001b[0maud2spec\u001b[0m\u001b[0;34m(\u001b[0m\u001b[0mat\u001b[0m\u001b[0;34m)\u001b[0m\u001b[0;34m.\u001b[0m\u001b[0mshow\u001b[0m\u001b[0;34m(\u001b[0m\u001b[0;34m)\u001b[0m\u001b[0;34m\u001b[0m\u001b[0;34m\u001b[0m\u001b[0m\n\u001b[0m",
      "\u001b[0;32m~/.conda/envs/default/lib/python3.9/site-packages/fastaudio/core/spectrogram.py\u001b[0m in \u001b[0;36mshow\u001b[0;34m(self, ctx, ax, title, **kwargs)\u001b[0m\n\u001b[1;32m     75\u001b[0m     \u001b[0;32mdef\u001b[0m \u001b[0mshow\u001b[0m\u001b[0;34m(\u001b[0m\u001b[0mself\u001b[0m\u001b[0;34m,\u001b[0m \u001b[0mctx\u001b[0m\u001b[0;34m=\u001b[0m\u001b[0;32mNone\u001b[0m\u001b[0;34m,\u001b[0m \u001b[0max\u001b[0m\u001b[0;34m=\u001b[0m\u001b[0;32mNone\u001b[0m\u001b[0;34m,\u001b[0m \u001b[0mtitle\u001b[0m\u001b[0;34m=\u001b[0m\u001b[0;34m\"\"\u001b[0m\u001b[0;34m,\u001b[0m \u001b[0;34m**\u001b[0m\u001b[0mkwargs\u001b[0m\u001b[0;34m)\u001b[0m\u001b[0;34m:\u001b[0m\u001b[0;34m\u001b[0m\u001b[0;34m\u001b[0m\u001b[0m\n\u001b[1;32m     76\u001b[0m         \u001b[0;34m\"Show spectrogram using librosa\"\u001b[0m\u001b[0;34m\u001b[0m\u001b[0;34m\u001b[0m\u001b[0m\n\u001b[0;32m---> 77\u001b[0;31m         \u001b[0;32mreturn\u001b[0m \u001b[0mshow_spectrogram\u001b[0m\u001b[0;34m(\u001b[0m\u001b[0mself\u001b[0m\u001b[0;34m,\u001b[0m \u001b[0mctx\u001b[0m\u001b[0;34m=\u001b[0m\u001b[0mctx\u001b[0m\u001b[0;34m,\u001b[0m \u001b[0max\u001b[0m\u001b[0;34m=\u001b[0m\u001b[0max\u001b[0m\u001b[0;34m,\u001b[0m \u001b[0mtitle\u001b[0m\u001b[0;34m=\u001b[0m\u001b[0mtitle\u001b[0m\u001b[0;34m,\u001b[0m \u001b[0;34m**\u001b[0m\u001b[0mkwargs\u001b[0m\u001b[0;34m)\u001b[0m\u001b[0;34m\u001b[0m\u001b[0;34m\u001b[0m\u001b[0m\n\u001b[0m\u001b[1;32m     78\u001b[0m \u001b[0;34m\u001b[0m\u001b[0m\n\u001b[1;32m     79\u001b[0m \u001b[0;34m\u001b[0m\u001b[0m\n",
      "\u001b[0;32m~/.conda/envs/default/lib/python3.9/site-packages/fastaudio/core/spectrogram.py\u001b[0m in \u001b[0;36mshow_spectrogram\u001b[0;34m(sg, title, ax, ctx, **kwargs)\u001b[0m\n\u001b[1;32m     86\u001b[0m         \u001b[0;31m# x_start, y_start, x_lenght, y_lenght, all in percent\u001b[0m\u001b[0;34m\u001b[0m\u001b[0;34m\u001b[0m\u001b[0m\n\u001b[1;32m     87\u001b[0m         \u001b[0mia\u001b[0m \u001b[0;34m=\u001b[0m \u001b[0max\u001b[0m\u001b[0;34m.\u001b[0m\u001b[0minset_axes\u001b[0m\u001b[0;34m(\u001b[0m\u001b[0;34m(\u001b[0m\u001b[0mi\u001b[0m \u001b[0;34m/\u001b[0m \u001b[0msg\u001b[0m\u001b[0;34m.\u001b[0m\u001b[0mnchannels\u001b[0m\u001b[0;34m,\u001b[0m \u001b[0;36m0.2\u001b[0m\u001b[0;34m,\u001b[0m \u001b[0;36m1\u001b[0m \u001b[0;34m/\u001b[0m \u001b[0msg\u001b[0m\u001b[0;34m.\u001b[0m\u001b[0mnchannels\u001b[0m\u001b[0;34m,\u001b[0m \u001b[0;36m0.7\u001b[0m\u001b[0;34m)\u001b[0m\u001b[0;34m)\u001b[0m\u001b[0;34m\u001b[0m\u001b[0;34m\u001b[0m\u001b[0m\n\u001b[0;32m---> 88\u001b[0;31m         z = specshow(\n\u001b[0m\u001b[1;32m     89\u001b[0m             \u001b[0mchannel\u001b[0m\u001b[0;34m.\u001b[0m\u001b[0mcpu\u001b[0m\u001b[0;34m(\u001b[0m\u001b[0;34m)\u001b[0m\u001b[0;34m.\u001b[0m\u001b[0mnumpy\u001b[0m\u001b[0;34m(\u001b[0m\u001b[0;34m)\u001b[0m\u001b[0;34m,\u001b[0m \u001b[0max\u001b[0m\u001b[0;34m=\u001b[0m\u001b[0mia\u001b[0m\u001b[0;34m,\u001b[0m \u001b[0;34m**\u001b[0m\u001b[0msg\u001b[0m\u001b[0;34m.\u001b[0m\u001b[0m_all_show_args\u001b[0m\u001b[0;34m(\u001b[0m\u001b[0mshow_y\u001b[0m\u001b[0;34m=\u001b[0m\u001b[0mi\u001b[0m \u001b[0;34m==\u001b[0m \u001b[0;36m0\u001b[0m\u001b[0;34m)\u001b[0m\u001b[0;34m,\u001b[0m \u001b[0;34m**\u001b[0m\u001b[0mkwargs\u001b[0m\u001b[0;34m\u001b[0m\u001b[0;34m\u001b[0m\u001b[0m\n\u001b[1;32m     90\u001b[0m         )\n",
      "\u001b[0;32m~/.conda/envs/default/lib/python3.9/site-packages/librosa/display.py\u001b[0m in \u001b[0;36mspecshow\u001b[0;34m(data, x_coords, y_coords, x_axis, y_axis, sr, hop_length, fmin, fmax, tuning, bins_per_octave, key, Sa, mela, thaat, ax, **kwargs)\u001b[0m\n\u001b[1;32m    854\u001b[0m     \u001b[0;31m# Set up axis scaling\u001b[0m\u001b[0;34m\u001b[0m\u001b[0;34m\u001b[0m\u001b[0m\n\u001b[1;32m    855\u001b[0m     \u001b[0m__scale_axes\u001b[0m\u001b[0;34m(\u001b[0m\u001b[0maxes\u001b[0m\u001b[0;34m,\u001b[0m \u001b[0mx_axis\u001b[0m\u001b[0;34m,\u001b[0m \u001b[0;34m\"x\"\u001b[0m\u001b[0;34m)\u001b[0m\u001b[0;34m\u001b[0m\u001b[0;34m\u001b[0m\u001b[0m\n\u001b[0;32m--> 856\u001b[0;31m     \u001b[0m__scale_axes\u001b[0m\u001b[0;34m(\u001b[0m\u001b[0maxes\u001b[0m\u001b[0;34m,\u001b[0m \u001b[0my_axis\u001b[0m\u001b[0;34m,\u001b[0m \u001b[0;34m\"y\"\u001b[0m\u001b[0;34m)\u001b[0m\u001b[0;34m\u001b[0m\u001b[0;34m\u001b[0m\u001b[0m\n\u001b[0m\u001b[1;32m    857\u001b[0m \u001b[0;34m\u001b[0m\u001b[0m\n\u001b[1;32m    858\u001b[0m     \u001b[0;31m# Construct tickers and locators\u001b[0m\u001b[0;34m\u001b[0m\u001b[0;34m\u001b[0m\u001b[0m\n",
      "\u001b[0;32m~/.conda/envs/default/lib/python3.9/site-packages/librosa/display.py\u001b[0m in \u001b[0;36m__scale_axes\u001b[0;34m(axes, ax_type, which)\u001b[0m\n\u001b[1;32m    972\u001b[0m         \u001b[0;32mreturn\u001b[0m\u001b[0;34m\u001b[0m\u001b[0;34m\u001b[0m\u001b[0m\n\u001b[1;32m    973\u001b[0m \u001b[0;34m\u001b[0m\u001b[0m\n\u001b[0;32m--> 974\u001b[0;31m     \u001b[0mscaler\u001b[0m\u001b[0;34m(\u001b[0m\u001b[0mmode\u001b[0m\u001b[0;34m,\u001b[0m \u001b[0;34m**\u001b[0m\u001b[0mkwargs\u001b[0m\u001b[0;34m)\u001b[0m\u001b[0;34m\u001b[0m\u001b[0;34m\u001b[0m\u001b[0m\n\u001b[0m\u001b[1;32m    975\u001b[0m \u001b[0;34m\u001b[0m\u001b[0m\n\u001b[1;32m    976\u001b[0m \u001b[0;34m\u001b[0m\u001b[0m\n",
      "\u001b[0;32m~/.conda/envs/default/lib/python3.9/site-packages/matplotlib/axes/_base.py\u001b[0m in \u001b[0;36mset_yscale\u001b[0;34m(self, value, **kwargs)\u001b[0m\n\u001b[1;32m   4098\u001b[0m         \u001b[0mg\u001b[0m \u001b[0;34m=\u001b[0m \u001b[0mself\u001b[0m\u001b[0;34m.\u001b[0m\u001b[0mget_shared_y_axes\u001b[0m\u001b[0;34m(\u001b[0m\u001b[0;34m)\u001b[0m\u001b[0;34m\u001b[0m\u001b[0;34m\u001b[0m\u001b[0m\n\u001b[1;32m   4099\u001b[0m         \u001b[0;32mfor\u001b[0m \u001b[0max\u001b[0m \u001b[0;32min\u001b[0m \u001b[0mg\u001b[0m\u001b[0;34m.\u001b[0m\u001b[0mget_siblings\u001b[0m\u001b[0;34m(\u001b[0m\u001b[0mself\u001b[0m\u001b[0;34m)\u001b[0m\u001b[0;34m:\u001b[0m\u001b[0;34m\u001b[0m\u001b[0;34m\u001b[0m\u001b[0m\n\u001b[0;32m-> 4100\u001b[0;31m             \u001b[0max\u001b[0m\u001b[0;34m.\u001b[0m\u001b[0myaxis\u001b[0m\u001b[0;34m.\u001b[0m\u001b[0m_set_scale\u001b[0m\u001b[0;34m(\u001b[0m\u001b[0mvalue\u001b[0m\u001b[0;34m,\u001b[0m \u001b[0;34m**\u001b[0m\u001b[0mkwargs\u001b[0m\u001b[0;34m)\u001b[0m\u001b[0;34m\u001b[0m\u001b[0;34m\u001b[0m\u001b[0m\n\u001b[0m\u001b[1;32m   4101\u001b[0m             \u001b[0max\u001b[0m\u001b[0;34m.\u001b[0m\u001b[0m_update_transScale\u001b[0m\u001b[0;34m(\u001b[0m\u001b[0;34m)\u001b[0m\u001b[0;34m\u001b[0m\u001b[0;34m\u001b[0m\u001b[0m\n\u001b[1;32m   4102\u001b[0m             \u001b[0max\u001b[0m\u001b[0;34m.\u001b[0m\u001b[0mstale\u001b[0m \u001b[0;34m=\u001b[0m \u001b[0;32mTrue\u001b[0m\u001b[0;34m\u001b[0m\u001b[0;34m\u001b[0m\u001b[0m\n",
      "\u001b[0;32m~/.conda/envs/default/lib/python3.9/site-packages/matplotlib/axis.py\u001b[0m in \u001b[0;36m_set_scale\u001b[0;34m(self, value, **kwargs)\u001b[0m\n\u001b[1;32m    759\u001b[0m     \u001b[0;32mdef\u001b[0m \u001b[0m_set_scale\u001b[0m\u001b[0;34m(\u001b[0m\u001b[0mself\u001b[0m\u001b[0;34m,\u001b[0m \u001b[0mvalue\u001b[0m\u001b[0;34m,\u001b[0m \u001b[0;34m**\u001b[0m\u001b[0mkwargs\u001b[0m\u001b[0;34m)\u001b[0m\u001b[0;34m:\u001b[0m\u001b[0;34m\u001b[0m\u001b[0;34m\u001b[0m\u001b[0m\n\u001b[1;32m    760\u001b[0m         \u001b[0;32mif\u001b[0m \u001b[0;32mnot\u001b[0m \u001b[0misinstance\u001b[0m\u001b[0;34m(\u001b[0m\u001b[0mvalue\u001b[0m\u001b[0;34m,\u001b[0m \u001b[0mmscale\u001b[0m\u001b[0;34m.\u001b[0m\u001b[0mScaleBase\u001b[0m\u001b[0;34m)\u001b[0m\u001b[0;34m:\u001b[0m\u001b[0;34m\u001b[0m\u001b[0;34m\u001b[0m\u001b[0m\n\u001b[0;32m--> 761\u001b[0;31m             \u001b[0mself\u001b[0m\u001b[0;34m.\u001b[0m\u001b[0m_scale\u001b[0m \u001b[0;34m=\u001b[0m \u001b[0mmscale\u001b[0m\u001b[0;34m.\u001b[0m\u001b[0mscale_factory\u001b[0m\u001b[0;34m(\u001b[0m\u001b[0mvalue\u001b[0m\u001b[0;34m,\u001b[0m \u001b[0mself\u001b[0m\u001b[0;34m,\u001b[0m \u001b[0;34m**\u001b[0m\u001b[0mkwargs\u001b[0m\u001b[0;34m)\u001b[0m\u001b[0;34m\u001b[0m\u001b[0;34m\u001b[0m\u001b[0m\n\u001b[0m\u001b[1;32m    762\u001b[0m         \u001b[0;32melse\u001b[0m\u001b[0;34m:\u001b[0m\u001b[0;34m\u001b[0m\u001b[0;34m\u001b[0m\u001b[0m\n\u001b[1;32m    763\u001b[0m             \u001b[0mself\u001b[0m\u001b[0;34m.\u001b[0m\u001b[0m_scale\u001b[0m \u001b[0;34m=\u001b[0m \u001b[0mvalue\u001b[0m\u001b[0;34m\u001b[0m\u001b[0;34m\u001b[0m\u001b[0m\n",
      "\u001b[0;32m~/.conda/envs/default/lib/python3.9/site-packages/matplotlib/scale.py\u001b[0m in \u001b[0;36mscale_factory\u001b[0;34m(scale, axis, **kwargs)\u001b[0m\n\u001b[1;32m    595\u001b[0m         \u001b[0mscale\u001b[0m \u001b[0;34m=\u001b[0m \u001b[0mscale\u001b[0m\u001b[0;34m.\u001b[0m\u001b[0mlower\u001b[0m\u001b[0;34m(\u001b[0m\u001b[0;34m)\u001b[0m\u001b[0;34m\u001b[0m\u001b[0;34m\u001b[0m\u001b[0m\n\u001b[1;32m    596\u001b[0m     \u001b[0mscale_cls\u001b[0m \u001b[0;34m=\u001b[0m \u001b[0m_api\u001b[0m\u001b[0;34m.\u001b[0m\u001b[0mcheck_getitem\u001b[0m\u001b[0;34m(\u001b[0m\u001b[0m_scale_mapping\u001b[0m\u001b[0;34m,\u001b[0m \u001b[0mscale\u001b[0m\u001b[0;34m=\u001b[0m\u001b[0mscale\u001b[0m\u001b[0;34m)\u001b[0m\u001b[0;34m\u001b[0m\u001b[0;34m\u001b[0m\u001b[0m\n\u001b[0;32m--> 597\u001b[0;31m     \u001b[0;32mreturn\u001b[0m \u001b[0mscale_cls\u001b[0m\u001b[0;34m(\u001b[0m\u001b[0maxis\u001b[0m\u001b[0;34m,\u001b[0m \u001b[0;34m**\u001b[0m\u001b[0mkwargs\u001b[0m\u001b[0;34m)\u001b[0m\u001b[0;34m\u001b[0m\u001b[0;34m\u001b[0m\u001b[0m\n\u001b[0m\u001b[1;32m    598\u001b[0m \u001b[0;34m\u001b[0m\u001b[0m\n\u001b[1;32m    599\u001b[0m \u001b[0;34m\u001b[0m\u001b[0m\n",
      "\u001b[0;31mTypeError\u001b[0m: __init__() got an unexpected keyword argument 'linthreshy'"
     ]
    },
    {
     "data": {
      "image/png": "[encoded data removed]",
      "text/plain": [
       "<Figure size 432x288 with 1 Axes>"
      ]
     },
     "metadata": {
      "image/png": {
       "height": 231,
       "width": 388
      },
      "needs_background": "light"
     },
     "output_type": "display_data"
    }
   ],
   "source": [
    "aud2spec(at).show()"
   ]
  },
  {
   "cell_type": "code",
   "execution_count": 250,
   "id": "db0bc228-74a3-4b52-891f-2250fa115836",
   "metadata": {},
   "outputs": [],
   "source": [
    "item_tfms=[RemoveSilence(), ResizeSignal(2000), aud2spec, MaskTime(1,size=4), MaskFreq(1,size=3)]"
   ]
  },
  {
   "cell_type": "code",
   "execution_count": 251,
   "id": "bfe70b90-de12-4444-872d-fa9927931a84",
   "metadata": {},
   "outputs": [
    {
     "data": {
      "text/plain": [
       "<AxesSubplot:>"
      ]
     },
     "execution_count": 251,
     "metadata": {},
     "output_type": "execute_result"
    },
    {
     "data": {
      "image/png": "[encoded data removed]",
      "text/plain": [
       "<Figure size 288x360 with 1 Axes>"
      ]
     },
     "metadata": {
      "image/png": {
       "height": 71,
       "width": 237
      },
      "needs_background": "light"
     },
     "output_type": "display_data"
    }
   ],
   "source": [
    "show_image(Pipeline(item_tfms)(at))"
   ]
  },
  {
   "cell_type": "code",
   "execution_count": 252,
   "id": "d31defc0-4253-43cf-b8d8-47d7b1c50657",
   "metadata": {},
   "outputs": [
    {
     "data": {
      "text/plain": [
       "<AxesSubplot:>"
      ]
     },
     "execution_count": 252,
     "metadata": {},
     "output_type": "execute_result"
    },
    {
     "data": {
      "image/png": "[encoded data removed]",
      "text/plain": [
       "<Figure size 288x360 with 1 Axes>"
      ]
     },
     "metadata": {
      "image/png": {
       "height": 71,
       "width": 237
      },
      "needs_background": "light"
     },
     "output_type": "display_data"
    }
   ],
   "source": [
    "show_image(Pipeline(item_tfms)(at))"
   ]
  },
  {
   "cell_type": "code",
   "execution_count": 253,
   "id": "f7923fc4-8700-4892-ad97-9bc0109c505a",
   "metadata": {},
   "outputs": [],
   "source": [
    "dblock = DataBlock(blocks=[AudioBlock, CategoryBlock],\n",
    "                  get_x=get_x,\n",
    "                   item_tfms=item_tfms,\n",
    "                   get_y=get_y,\n",
    "                   splitter=RandomSplitter(valid_pct=0.2)\n",
    "                  )"
   ]
  },
  {
   "cell_type": "code",
   "execution_count": 254,
   "id": "25aad106-068d-4c39-a40a-c53cfe500bde",
   "metadata": {},
   "outputs": [],
   "source": [
    "dls3 = dblock.dataloaders(df, )"
   ]
  },
  {
   "cell_type": "code",
   "execution_count": 255,
   "id": "c4e9d19c-da01-44b2-9a22-e41e74c43256",
   "metadata": {},
   "outputs": [],
   "source": [
    "learn3 = Learner(dls3, xresnet50(True), CrossEntropyLossFlat(),\n",
    "                 wd=0.05, metrics=[accuracy, F1Score(average='weighted')]).to_fp16()"
   ]
  },
  {
   "cell_type": "code",
   "execution_count": 256,
   "id": "3ec4b545-c04e-4f75-8006-834a3b1062ab",
   "metadata": {},
   "outputs": [],
   "source": [
    "alter_learner(learn3)"
   ]
  },
  {
   "cell_type": "code",
   "execution_count": null,
   "id": "12b74d88-47fa-4050-8ce9-196341d85598",
   "metadata": {},
   "outputs": [
    {
     "data": {
      "text/html": [
       "\n",
       "    <div>\n",
       "        <style>\n",
       "            /* Turns off some styling */\n",
       "            progress {\n",
       "                /* gets rid of default border in Firefox and Opera. */\n",
       "                border: none;\n",
       "                /* Needs to be in here for Safari polyfill so background images work as expected. */\n",
       "                background-size: auto;\n",
       "            }\n",
       "            .progress-bar-interrupted, .progress-bar-interrupted::-webkit-progress-bar {\n",
       "                background: #F44336;\n",
       "            }\n",
       "        </style>\n",
       "      <progress value='0' class='' max='2' style='width:300px; height:20px; vertical-align: middle;'></progress>\n",
       "      0.00% [0/2 00:00<00:00]\n",
       "    </div>\n",
       "    \n",
       "\n",
       "\n",
       "    <div>\n",
       "        <style>\n",
       "            /* Turns off some styling */\n",
       "            progress {\n",
       "                /* gets rid of default border in Firefox and Opera. */\n",
       "                border: none;\n",
       "                /* Needs to be in here for Safari polyfill so background images work as expected. */\n",
       "                background-size: auto;\n",
       "            }\n",
       "            .progress-bar-interrupted, .progress-bar-interrupted::-webkit-progress-bar {\n",
       "                background: #F44336;\n",
       "            }\n",
       "        </style>\n",
       "      <progress value='34' class='' max='90' style='width:300px; height:20px; vertical-align: middle;'></progress>\n",
       "      37.78% [34/90 00:09<00:16 7.2763]\n",
       "    </div>\n",
       "    "
      ],
      "text/plain": [
       "<IPython.core.display.HTML object>"
      ]
     },
     "metadata": {},
     "output_type": "display_data"
    }
   ],
   "source": [
    "learn3.lr_find()"
   ]
  },
  {
   "cell_type": "code",
   "execution_count": null,
   "id": "371a16c2-aa24-4622-a310-a95529dad7fe",
   "metadata": {},
   "outputs": [],
   "source": [
    "learn3.fine_tune(10, 7e-3)"
   ]
  },
  {
   "cell_type": "code",
   "execution_count": null,
   "id": "ed6fb0d6-e704-41aa-a344-b450a1d3603a",
   "metadata": {},
   "outputs": [],
   "source": []
  }
 ],
 "metadata": {
  "kernelspec": {
   "display_name": "default:Python",
   "language": "python",
   "name": "conda-env-default-py"
  },
  "language_info": {
   "codemirror_mode": {
    "name": "ipython",
    "version": 3
   },
   "file_extension": ".py",
   "mimetype": "text/x-python",
   "name": "python",
   "nbconvert_exporter": "python",
   "pygments_lexer": "ipython3",
   "version": "3.9.7"
  }
 },
 "nbformat": 4,
 "nbformat_minor": 5
}
