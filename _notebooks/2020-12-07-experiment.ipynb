{
 "cells": [
  {
   "cell_type": "markdown",
   "metadata": {},
   "source": [
    "# Исследование студентов НИУ ВШЭ"
   ]
  },
  {
   "cell_type": "markdown",
   "metadata": {},
   "source": [
    "## Нажмите на кнопку, чтобы приступить к эксперименту:"
   ]
  },
  {
   "cell_type": "code",
   "execution_count": 18,
   "metadata": {
    "hide_input": true
   },
   "outputs": [
    {
     "data": {
      "text/html": [
       "<script type=\"text/javascript\">\n",
       "function randomlinks(){\n",
       "    var myrandom=Math.round(Math.random()*9)\n",
       "    var links=new Array()\n",
       "    links[0]=\"http://www.javascriptkit.com\"\n",
       "    links[1]=\"http://www.dynamicdrive.com\"\n",
       "    links[2]=\"http://www.cssdrive.com\"\n",
       "    links[3]=\"http://www.codingforums.com\"\n",
       " \n",
       "    window.location=links[myrandom]\n",
       "}\n",
       "</script>\n",
       "<form>\n",
       "<input type=\"button\" value=\"Приступить!\" onClick=\"randomlinks()\">\n",
       "</form>\n"
      ],
      "text/plain": [
       "<IPython.core.display.HTML object>"
      ]
     },
     "metadata": {},
     "output_type": "display_data"
    }
   ],
   "source": [
    "%%html\n",
    "<script type=\"text/javascript\">\n",
    "function randomlinks(){\n",
    "    var myrandom=Math.round(Math.random()*9)\n",
    "    var links=new Array()\n",
    "    links[0]=\"http://www.javascriptkit.com\"\n",
    "    links[1]=\"http://www.dynamicdrive.com\"\n",
    "    links[2]=\"http://www.cssdrive.com\"\n",
    "    links[3]=\"http://www.codingforums.com\"\n",
    " \n",
    "    window.location=links[myrandom]\n",
    "}\n",
    "</script>\n",
    "<form>\n",
    "<input type=\"button\" value=\"Приступить!\" onClick=\"randomlinks()\">\n",
    "</form>"
   ]
  }
 ],
 "metadata": {
  "kernelspec": {
   "display_name": "Python 3",
   "language": "python",
   "name": "python3"
  },
  "language_info": {
   "codemirror_mode": {
    "name": "ipython",
    "version": 3
   },
   "file_extension": ".py",
   "mimetype": "text/x-python",
   "name": "python",
   "nbconvert_exporter": "python",
   "pygments_lexer": "ipython3",
   "version": "3.8.5"
  }
 },
 "nbformat": 4,
 "nbformat_minor": 4
}
